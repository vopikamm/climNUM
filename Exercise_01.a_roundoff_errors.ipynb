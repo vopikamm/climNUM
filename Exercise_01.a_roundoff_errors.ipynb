{
 "cells": [
  {
   "cell_type": "markdown",
   "metadata": {},
   "source": [
    "# Exercise 01.a -- Roundoff errors"
   ]
  },
  {
   "cell_type": "code",
   "execution_count": 1,
   "metadata": {},
   "outputs": [],
   "source": [
    "import numpy as np"
   ]
  },
  {
   "cell_type": "markdown",
   "metadata": {},
   "source": [
    "## Floating point precision:\n",
    "\n",
    "- double precision, 64 bit:\n",
    "  - 1 bit for the sign\n",
    "  - 11 bits for the exponent\n",
    "  - 52 bits for the mantissa\n",
    "  - $\\epsilon = 2^{-52} \\approx 2.2 \\cdot 10^{-16}$\n",
    "\n",
    "- single precision, 32 bit:\n",
    "  - 1 bit for the sign\n",
    "  - 8 bits for the exponent\n",
    "  - 23 bits for the mantissa\n",
    "  - $\\epsilon = 2^{-23} \\approx 1.2 \\cdot 10^{-7}$\n",
    "\n",
    "- half precision, 16 bit\n",
    "  - 1 bit for the sign\n",
    "  - 5 bits for the exponent\n",
    "  - 10 bits for the mantissa\n",
    "  - $\\epsilon = 2^{-10} \\approx 9.8 \\cdot 10^{-4}$"
   ]
  },
  {
   "cell_type": "markdown",
   "metadata": {},
   "source": [
    "## Playing with floating point precision"
   ]
  },
  {
   "cell_type": "code",
   "execution_count": 2,
   "metadata": {},
   "outputs": [],
   "source": [
    "epsilon_64 = np.float64(2 ** (-52))\n",
    "epsilon_32 = np.float32(2 ** (-23))\n",
    "epsilon_16 = np.float16(2 ** (-10))"
   ]
  },
  {
   "cell_type": "code",
   "execution_count": 3,
   "metadata": {},
   "outputs": [
    {
     "name": "stdout",
     "output_type": "stream",
     "text": [
      "9.765625e-04\n",
      "1.001\n",
      "1.0\n"
     ]
    }
   ],
   "source": [
    "print(f\"{epsilon_16:e}\")\n",
    "print(np.float16(1.0 + epsilon_16))\n",
    "print(np.float16(1.0 + epsilon_16 / 2))"
   ]
  },
  {
   "cell_type": "code",
   "execution_count": 4,
   "metadata": {},
   "outputs": [
    {
     "name": "stdout",
     "output_type": "stream",
     "text": [
      "1.192093e-07\n",
      "1.0000001\n",
      "1.0\n"
     ]
    }
   ],
   "source": [
    "print(f\"{epsilon_32:e}\")\n",
    "print(np.float32(1.0 + epsilon_32))\n",
    "print(np.float32(1.0 + epsilon_32 / 2))"
   ]
  },
  {
   "cell_type": "code",
   "execution_count": 5,
   "metadata": {},
   "outputs": [
    {
     "name": "stdout",
     "output_type": "stream",
     "text": [
      "2.220446e-16\n",
      "1.0000000000000002\n",
      "1.0\n"
     ]
    }
   ],
   "source": [
    "print(f\"{epsilon_64:e}\")\n",
    "print(np.float64(1.0 + epsilon_64))\n",
    "print(np.float64(1.0 + epsilon_64 / 2))"
   ]
  },
  {
   "cell_type": "markdown",
   "metadata": {},
   "source": [
    "## Roundoff errors\n",
    "\n",
    "For a given precision, we have seen that \n",
    "\n",
    "$$\n",
    "1 + z = 1 \\quad {\\rm for} \\quad 0 \\leq z \\leq \\epsilon \\\\\n",
    "1 + z > 1 \\quad {\\rm for} \\quad z > \\epsilon\n",
    "$$\n",
    "\n",
    "Hence, we can expect every calcylation to be off by $\\epsilon$.  Generalizing the above, we find $A$ and $A +\\epsilon\\,A$ to be indistinguishable.  The roundoff error of $A$ is $\\epsilon\\,A$.\n",
    "\n",
    "### Propagation of roundoff errors\n",
    "\n",
    "We can use the known rules of error propagation:\n",
    "\n",
    "- For addition and substraction, the errors are added\n",
    "  $$\\delta(A \\pm B)| \\sim \\epsilon\\,A + \\epsilon\\,B = O(\\epsilon\\,\\max(A, B))$$\n",
    "\n",
    "- For multiplication and division, the relative errors are added\n",
    "  $$\n",
    "  \\frac{|\\delta(A\\,B)|}{|A \\cdot B|}\n",
    "    \\sim \\frac{\\epsilon A}{A} + \\frac{\\epsilon\\,B}{B}\n",
    "    = \\frac{\\epsilon\\,(A\\,B + A\\,B)}{A\\,B}\n",
    "    = O(\\epsilon) \\\\\n",
    "  \\delta(AB) = O(\\epsilon)\n",
    "  $$\n",
    "\n",
    "Hence, we consider multplication and division as safe and addition / substraction as dangerous."
   ]
  },
  {
   "cell_type": "markdown",
   "metadata": {},
   "source": [
    "### See roundoff errors at work"
   ]
  },
  {
   "cell_type": "code",
   "execution_count": 6,
   "metadata": {},
   "outputs": [
    {
     "name": "stdout",
     "output_type": "stream",
     "text": [
      "-3.906250e-04\n",
      "-3.906250e-04\n"
     ]
    }
   ],
   "source": [
    "a = np.float32(10_000.1)\n",
    "b = np.float32(10_000.0)\n",
    "\n",
    "diff_ab = a - b\n",
    "sum_ab = a + b\n",
    "\n",
    "print(format(diff_ab - 0.1, 'e'))\n",
    "print(format(sum_ab - 20_000.1, 'e'))"
   ]
  },
  {
   "cell_type": "code",
   "execution_count": 7,
   "metadata": {},
   "outputs": [
    {
     "name": "stdout",
     "output_type": "stream",
     "text": [
      "-1.101341e-13\n",
      " 1.659393e-04\n",
      "-1.000000e+00\n"
     ]
    }
   ],
   "source": [
    "a_64 = np.float64(1)\n",
    "a_32 = np.float32(1)\n",
    "a_16 = np.float16(1)\n",
    "\n",
    "for n in range(5_000):\n",
    "    a_64 += np.float64(1 / 5_000)\n",
    "    a_32 += np.float32(1 / 5_000)\n",
    "    a_16 += np.float16(1 / 5_000)\n",
    "\n",
    "print(f\"{a_64 - 2.0 : e}\")\n",
    "print(f\"{a_32 - 2.0 : e}\")\n",
    "print(f\"{a_16 - 2.0 : e}\")"
   ]
  },
  {
   "cell_type": "code",
   "execution_count": null,
   "metadata": {},
   "outputs": [],
   "source": []
  }
 ],
 "metadata": {
  "kernelspec": {
   "display_name": "Python [conda env:ws20climnum]",
   "language": "python",
   "name": "conda-env-ws20climnum-py"
  },
  "language_info": {
   "codemirror_mode": {
    "name": "ipython",
    "version": 3
   },
   "file_extension": ".py",
   "mimetype": "text/x-python",
   "name": "python",
   "nbconvert_exporter": "python",
   "pygments_lexer": "ipython3",
   "version": "3.7.8"
  }
 },
 "nbformat": 4,
 "nbformat_minor": 4
}
