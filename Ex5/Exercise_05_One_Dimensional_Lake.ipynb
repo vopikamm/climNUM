{
 "cells": [
  {
   "cell_type": "markdown",
   "metadata": {},
   "source": [
    "# Exercise 05: One-dimensional lake\n",
    "\n",
    "**Due:** _19 January 2020_"
   ]
  },
  {
   "cell_type": "markdown",
   "metadata": {},
   "source": [
    "**Names:** Lukas, David, Linus, Mariana"
   ]
  },
  {
   "cell_type": "markdown",
   "metadata": {},
   "source": [
    "Assume that governing equations in a lake are the one dimensional shallow water equations\n",
    "\n",
    "\\begin{align}\n",
    " \\frac{\\partial \\eta}{\\partial t} &= -H\\frac{\\partial u}{\\partial x},\n",
    " \\label{eq:1D_lake_cont} \\\\\n",
    " \\frac{\\partial u}{\\partial t} &= -g\\frac{\\partial \\eta}{\\partial x} + \\frac{F}{\\rho_0H},\n",
    " \\label{eq:1D_lake_momentum}\n",
    "\\end{align}\n",
    "where $u$ is velocity, $\\eta$ is the displacement of the lakes surface, $H$ is\n",
    "the depth of the lake, $g$ is gravity, $\\rho_0$ is the density of the water\n",
    "and $F$ is the wind stress acting on the lakes surface.\n",
    "Initialise the lake with $u=0$ and $\\eta=0$ everywhere. The boundary condition is\n",
    "$u=0$ at $x=0$ and $x=L$.\n",
    "\n",
    "Consider the following grid arrangement in x for $u$ and $\\eta$:\n",
    "\\begin{eqnarray*}\n",
    " u, \\eta, u, \\eta, u, \\eta, u, \\eta, u, \\eta, u, \\eta, u.\n",
    "\\end{eqnarray*}\n",
    "\n",
    "Use this grid and write a program to solve the shallow water equations numerically.\n",
    "Use forward-in-time, centred-in-space differencing for the continuity equation, and\n",
    "backward-in-time, centred-in-space differencing for the momentum equation.\n",
    "\n",
    "Take $\\rho_0=1000\\,kg\\,m^{-3}$, $H=10\\,m$, $L=100\\,km$, $g=9.8\\,m\\,s^{-2}$, $dx=5\\,km$, $dt=300\\,s$. Assume\n",
    "that wind stress is constant in time and homogeneous in space and take $F=0.01N m^{-2}$. Integrate the equations\n",
    "for two days and plot the results. (10 points)"
   ]
  },
  {
   "cell_type": "markdown",
   "metadata": {},
   "source": [
    "## 5\n",
    "\n",
    "Considering the given grid arrangement\n",
    "\n",
    "\\begin{eqnarray*}\n",
    " u_{j-1} \\eta_{j-1}, u_{j}, \\eta_{j}, u_{j+1}, \\eta_{j+1}\n",
    "\\end{eqnarray*}\n",
    "\n",
    "The values of the dependent variables $u$ and $\\eta$ are calculated alternately at grid points type u and η. For computational optimization, each group of variables has the same spatial index $j$.\n",
    "\n",
    "We have for the forward-in-time, centred-in-space differencing for the continuity equation:\n",
    "\n",
    "$$\\frac{\\eta^{n+1}_{j} - \\eta^{n}_{j}}{\\Delta t} = -H \\frac{u^{n}_{j+1} - u^{n}_{j}}{\\Delta x}$$\n",
    "\n",
    "For the backward-in-time, centred-in-space differencing for the momentum equation:\n",
    "\n",
    "$$\\frac{u^{n+1}_{j} - u^{n}_{j}}{\\Delta t} = -g \\frac{\\eta^{n+1}_{j} - \\eta^{n+1}_{j-1}}{\\Delta x} + \\frac{F}{\\rho_{0}H}$$\n",
    "\n",
    "$\\Delta x$ represents the distance between two consecutive points of same kind ($u$ or $\\eta$).\n"
   ]
  },
  {
   "cell_type": "code",
   "execution_count": 1,
   "metadata": {},
   "outputs": [],
   "source": [
    "import numpy as np\n",
    "import matplotlib.pyplot as plt"
   ]
  },
  {
   "cell_type": "code",
   "execution_count": 3,
   "metadata": {},
   "outputs": [],
   "source": [
    "# constants\n",
    "rho = 1000            #kg.m-3\n",
    "h = 10                #m\n",
    "L = 100 * 1e3         #m\n",
    "g = 9.8               #m.s-2\n",
    "dx = 5 * 1e3          #m\n",
    "dt = 300              #s\n",
    "F = 0.01              #N.m-2\n",
    "t_max = 2 * 24 * 3600 #s\n",
    "q_eta = (-h * dt/dx)\n",
    "\n",
    "# x & time domain \n",
    "x = np.arange(0, L + dx/2, dx)\n",
    "t = np.arange(0, t_max + dt / 2, dt)\n",
    "mesht, meshx = np.meshgrid(t,x)\n",
    "\n",
    "jmax = len(x)\n",
    "n = int((t_max - 0) / dt)"
   ]
  },
  {
   "cell_type": "code",
   "execution_count": 100,
   "metadata": {},
   "outputs": [
    {
     "data": {
      "text/plain": [
       "577"
      ]
     },
     "execution_count": 100,
     "metadata": {},
     "output_type": "execute_result"
    }
   ],
   "source": [
    "len(t)"
   ]
  },
  {
   "cell_type": "code",
   "execution_count": 5,
   "metadata": {},
   "outputs": [],
   "source": [
    "# initial conditions\n",
    "eta_0 = u_1 = eta_1 = u_0 = np.zeros(len(x))\n",
    "eta_out = u_out = [eta_0]\n",
    "\n",
    "# SHOULDNT IT BE u and then eta?\n",
    "\n",
    "for i in range(0, int(n/2)):    # For some reason it is giving the double values for n in the output\n",
    "    u_0[0] = u_0[-1] = 0 #boundaty conditions\n",
    "    eta_1[1:jmax-1] = q_eta * (u_0[2:jmax] - u_0[1:jmax-1]) + eta_0[1:jmax-1]\n",
    "    u_1[1:jmax-1] = (-g * dt / dx) * (eta_1[1:jmax-1] - eta_1[0:jmax-2]) + (dt * F / rho * h) + u_0[1:jmax-1]\n",
    "    eta_out.append(eta_1)\n",
    "    u_out.append(u_1)\n",
    "    u_0 = np.copy(u_1)\n",
    "    eta_0 = np.copy(eta_1)\n",
    "    \n",
    "eta_out = np.array(eta_out)\n",
    "u_out = np.array(u_out)"
   ]
  },
  {
   "cell_type": "code",
   "execution_count": 18,
   "metadata": {},
   "outputs": [
    {
     "name": "stderr",
     "output_type": "stream",
     "text": [
      "/opt/tljh/user/envs/ws20climnum/lib/python3.7/site-packages/ipykernel_launcher.py:2: MatplotlibDeprecationWarning: shading='flat' when X and Y have the same dimensions as C is deprecated since 3.3.  Either specify the corners of the quadrilaterals with X and Y, or pass shading='auto', 'nearest' or 'gouraud', or set rcParams['pcolor.shading'].  This will become an error two minor releases later.\n",
      "  \n"
     ]
    },
    {
     "data": {
      "image/png": "[encoded data removed]",
      "text/plain": [
       "<Figure size 432x288 with 2 Axes>"
      ]
     },
     "metadata": {
      "needs_background": "light"
     },
     "output_type": "display_data"
    }
   ],
   "source": [
    "cmap = plt.get_cmap(name='PuOr')\n",
    "map1 = plt.pcolormesh(meshx, mesht, u_out.T, cmap= cmap)\n",
    "plt.colorbar(map1, pad=0.02, shrink=0.7)\n",
    "cmap = plt.get_cmap(name='RdBu')\n",
    "#plt.title()\n",
    "\n",
    "# I didnt like the aspect of the plot, can we make it smoother somehow?"
   ]
  },
  {
   "cell_type": "code",
   "execution_count": 14,
   "metadata": {},
   "outputs": [
    {
     "name": "stderr",
     "output_type": "stream",
     "text": [
      "/opt/tljh/user/envs/ws20climnum/lib/python3.7/site-packages/ipykernel_launcher.py:2: MatplotlibDeprecationWarning: shading='flat' when X and Y have the same dimensions as C is deprecated since 3.3.  Either specify the corners of the quadrilaterals with X and Y, or pass shading='auto', 'nearest' or 'gouraud', or set rcParams['pcolor.shading'].  This will become an error two minor releases later.\n",
      "  \n"
     ]
    },
    {
     "data": {
      "image/png": "[encoded data removed]",
      "text/plain": [
       "<Figure size 432x288 with 2 Axes>"
      ]
     },
     "metadata": {
      "needs_background": "light"
     },
     "output_type": "display_data"
    }
   ],
   "source": [
    "cmap = plt.get_cmap(name='PuOr')\n",
    "map1 = plt.pcolormesh(meshx, mesht, eta_out.T, cmap= cmap)\n",
    "plt.colorbar(map1, pad=0.02, shrink=0.7)\n",
    "cmap = plt.get_cmap(name='RdBu')"
   ]
  },
  {
   "cell_type": "code",
   "execution_count": 52,
   "metadata": {},
   "outputs": [],
   "source": [
    "\n",
    "#def forw_centred(const, var_0):\n",
    " #   return (const * (var_0[2:jmax] - var_0[1:jmax-1]))\n",
    "#for n in range(0, len(t)):    \n",
    "#    eta_1[1:jmax-1] = forw_centred(q_eta, u_0)\n",
    "\n",
    "\n",
    "#def A_harmonic(x):\n",
    "        #harmonic matrix:\n",
    "#        A = np.zeros((len(x), self.N-2))\n",
    "#        indices = np.arange(self.N -2)\n",
    "\n",
    "        # set diagonal\n",
    "#        A[indices, indices] = -2 / self.dx ** 2\n",
    "\n",
    "        # set off-diagonal\n",
    "#        A[indices[:-1], indices[:-1] + 1] = 1 / self.dx ** 2\n",
    "#        A[indices[:-1] + 1, indices[:-1]] = 1 / self.dx ** 2\n",
    "#        return A"
   ]
  },
  {
   "cell_type": "code",
   "execution_count": null,
   "metadata": {},
   "outputs": [],
   "source": []
  }
 ],
 "metadata": {
  "kernelspec": {
   "display_name": "Python [conda env:ws20climnum]",
   "language": "python",
   "name": "conda-env-ws20climnum-py"
  },
  "language_info": {
   "codemirror_mode": {
    "name": "ipython",
    "version": 3
   },
   "file_extension": ".py",
   "mimetype": "text/x-python",
   "name": "python",
   "nbconvert_exporter": "python",
   "pygments_lexer": "ipython3",
   "version": "3.7.8"
  }
 },
 "nbformat": 4,
 "nbformat_minor": 4
}
