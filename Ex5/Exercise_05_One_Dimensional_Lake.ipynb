{
 "cells": [
  {
   "cell_type": "markdown",
   "metadata": {},
   "source": [
    "# Exercise 05: One-dimensional lake\n",
    "\n",
    "**Due:** _19 January 2020_"
   ]
  },
  {
   "cell_type": "markdown",
   "metadata": {},
   "source": [
    "**Names:** Lukas, David, Linus, Mariana"
   ]
  },
  {
   "cell_type": "markdown",
   "metadata": {},
   "source": [
    "Assume that governing equations in a lake are the one dimensional shallow water equations\n",
    "\n",
    "\\begin{align}\n",
    " \\frac{\\partial \\eta}{\\partial t} &= -H\\frac{\\partial u}{\\partial x},\n",
    " \\label{eq:1D_lake_cont} \\\\\n",
    " \\frac{\\partial u}{\\partial t} &= -g\\frac{\\partial \\eta}{\\partial x} + \\frac{F}{\\rho_0H},\n",
    " \\label{eq:1D_lake_momentum}\n",
    "\\end{align}\n",
    "where $u$ is velocity, $\\eta$ is the displacement of the lakes surface, $H$ is\n",
    "the depth of the lake, $g$ is gravity, $\\rho_0$ is the density of the water\n",
    "and $F$ is the wind stress acting on the lakes surface.\n",
    "Initialise the lake with $u=0$ and $\\eta=0$ everywhere. The boundary condition is\n",
    "$u=0$ at $x=0$ and $x=L$.\n",
    "\n",
    "Consider the following grid arrangement in x for $u$ and $\\eta$:\n",
    "\\begin{eqnarray*}\n",
    " u, \\eta, u, \\eta, u, \\eta, u, \\eta, u, \\eta, u, \\eta, u.\n",
    "\\end{eqnarray*}\n",
    "\n",
    "Use this grid and write a program to solve the shallow water equations numerically.\n",
    "Use forward-in-time, centred-in-space differencing for the continuity equation, and\n",
    "backward-in-time, centred-in-space differencing for the momentum equation.\n",
    "\n",
    "Take $\\rho_0=1000\\,kg\\,m^{-3}$, $H=10\\,m$, $L=100\\,km$, $g=9.8\\,m\\,s^{-2}$, $dx=5\\,km$, $dt=300\\,s$. Assume\n",
    "that wind stress is constant in time and homogeneous in space and take $F=0.01N m^{-2}$. Integrate the equations\n",
    "for two days and plot the results. (10 points)"
   ]
  },
  {
   "cell_type": "markdown",
   "metadata": {},
   "source": [
    "## 5\n",
    "\n",
    "We have for the forward-in-time, centred-in-space differencing for the continuity equation:\n",
    "\n",









    "$$\\frac{\\eta^{n+1}_{j} - \\eta^{n}_{j}}{\\Delta t} = -H \\frac{u^{n}_{j+1} - u^{n}_{j}}{2 \\Delta x}$$\n",
    "\n",
    "For the backward-in-time, centred-in-space differencing for the momentum equation:\n",
    "\n",
    "$$\\frac{u^{n+1}_{j} - u^{n}_{j}}{\\Delta t} = -g \\frac{\\eta^{n+1}_{j} - \\eta^{n+1}_{j-1}}{2 \\Delta x} + \\frac{F}{\\rho_{0}H}$$"

   ]
  },
  {
   "cell_type": "code",
   "execution_count": null,
   "metadata": {},
   "outputs": [],
   "source": [
    "import numpy as np\n",
    "import matplotlib.pyplot as plt"
   ]
  },
  {
   "cell_type": "code",
   "execution_count": null,
   "metadata": {},
   "outputs": [],
   "source": [
    "# constants\n",
    "rho = 1000            #kg.m-3\n",
    "h = 10                #m\n",
    "L = 100 * 1e3         #m\n",
    "g = 9.8               #m.s-2\n",
    "dx = 5 * 1e3          #m\n",
    "dt = 300              #s\n",
    "F = 0.01              #N.m-2\n",
    "t_max = 2 * 24 * 3600 #s\n",




    "\n",
    "# x & time domain \n",
    "x_u   = np.arange(0, L + dx/2, 2*dx)\n",
    "x_eta = np.arange(dx,L+dx, 2*dx)\n",
    "t = np.arange(0, t_max + dt / 2, dt)\n",
    "mesh_x_u, mesh_t_u     = np.meshgrid(x_u/1000, t/3600) \n",
    "mesh_x_eta, mesh_t_eta = np.meshgrid(x_eta/1000, t/3600) "
   ]
  },
  {
   "cell_type": "code",


   "execution_count": null,
   "metadata": {},
   "outputs": [],
   "source": [
    "# initial conditions\n",
    "eta_0 = np.zeros(len(x_eta))\n",
    "u_0   = np.zeros(len(x_u))\n",
    "\n",
    "eta = [eta_0]\n",
    "u   = [u_0]"
   ]
  },
  {
   "cell_type": "code",
   "execution_count": null,
   "metadata": {},
   "outputs": [],
   "source": [
    "#difference matrices:\n",
    "Dx_u = np.zeros((len(x_eta),len(x_u))) \n",
    "Dx_eta = np.zeros((len(x_u),len(x_eta))) \n",
    "\n",
    "for i in range(0,len(x_eta)-1):\n",
    "    Dx_eta[i+1,i:i+2] = [-1,1]\n",
    "    Dx_u[i,i:i+2] = [-1,1]\n",
    "\n",
    "Dx_u[-1,-2:] = [-1,1]\n",
    "\n",
    "#forcing array:\n",
    "forcing = np.ones(len(x_u))*F/(rho*h)\n",
    "forcing[-1] = 0\n",
    "forcing[0]  = 0"
   ]
  },
  {
   "cell_type": "code",
   "execution_count": null,
   "metadata": {},
   "outputs": [],
   "source": [
    "def RHS_eta(eta_in,u_in):\n",
    "    eta_out = eta_in - (dt*h/(2*dx))*np.dot(Dx_u,u_in)\n",
    "    return(eta_out)\n",
    "    \n",
    "def RHS_u(u_in, eta_in):\n",
    "    u_out = u_in -(dt*g/(2*dx))*np.dot(Dx_eta,eta_in)+dt*forcing\n",
    "    return(u_out)"
   ]
  },
  {
   "cell_type": "code",
   "execution_count": null,
   "metadata": {},
   "outputs": [],
   "source": [
    "#time integration:\n",
    "for i in range(0,len(t)-1):\n",
    "    eta_1 = RHS_eta(eta[i],u[i])\n",
    "    u_1   = RHS_u(u[i],eta_1)\n",
    "    eta.append(eta_1)\n",
    "    u.append(u_1)\n",
    "    \n",
    "u_result   = np.array(u)\n",
    "eta_result = np.array(eta)"
   ]
  },
  {
   "cell_type": "code",
   "execution_count": null,
   "metadata": {},
   "outputs": [],
   "source": [
    "plt.pcolormesh(mesh_t_u, mesh_x_u,u_result*100,cmap='PuOr', shading='auto')\n",
    "plt.xlabel('time in h')\n",
    "plt.ylabel('x in km')\n",
    "plt.colorbar(label='u in cm/s')"
   ]
  },
  {
   "cell_type": "code",
   "execution_count": null,
   "metadata": {},
   "outputs": [],
   "source": [
    "plt.pcolormesh(mesh_t_eta, mesh_x_eta,eta_result*100,cmap='PuOr', shading='auto')\n",
    "plt.xlabel('time in h')\n",
    "plt.ylabel('x in km')\n",
    "plt.colorbar(label=r'$\\eta$ in cm')"
   ]
  },
  {
   "cell_type": "code",

   "execution_count": null,
   "metadata": {},
   "outputs": [],
   "source": []
  }
 ],
 "metadata": {
  "kernelspec": {
   "display_name": "Python [conda env:ws20climnum]",
   "language": "python",
   "name": "conda-env-ws20climnum-py"
  },
  "language_info": {
   "codemirror_mode": {
    "name": "ipython",
    "version": 3
   },
   "file_extension": ".py",
   "mimetype": "text/x-python",
   "name": "python",
   "nbconvert_exporter": "python",
   "pygments_lexer": "ipython3",
   "version": "3.7.8"
  }
 },
 "nbformat": 4,
 "nbformat_minor": 4
}
