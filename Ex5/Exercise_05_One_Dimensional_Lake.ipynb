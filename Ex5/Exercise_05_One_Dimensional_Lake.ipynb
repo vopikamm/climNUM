{
 "cells": [
  {
   "cell_type": "markdown",
   "metadata": {},
   "source": [
    "# Exercise 05: One-dimensional lake\n",
    "\n",
    "**Due:** _19 January 2020_"
   ]
  },
  {
   "cell_type": "markdown",
   "metadata": {},
   "source": [
    "**Names:** Lukas, David, Linus, Mariana"
   ]
  },
  {
   "cell_type": "markdown",
   "metadata": {},
   "source": [
    "Assume that governing equations in a lake are the one dimensional shallow water equations\n",
    "\n",
    "\\begin{align}\n",
    " \\frac{\\partial \\eta}{\\partial t} &= -H\\frac{\\partial u}{\\partial x},\n",
    " \\label{eq:1D_lake_cont} \\\\\n",
    " \\frac{\\partial u}{\\partial t} &= -g\\frac{\\partial \\eta}{\\partial x} + \\frac{F}{\\rho_0H},\n",
    " \\label{eq:1D_lake_momentum}\n",
    "\\end{align}\n",
    "where $u$ is velocity, $\\eta$ is the displacement of the lakes surface, $H$ is\n",
    "the depth of the lake, $g$ is gravity, $\\rho_0$ is the density of the water\n",
    "and $F$ is the wind stress acting on the lakes surface.\n",
    "Initialise the lake with $u=0$ and $\\eta=0$ everywhere. The boundary condition is\n",
    "$u=0$ at $x=0$ and $x=L$.\n",
    "\n",
    "Consider the following grid arrangement in x for $u$ and $\\eta$:\n",
    "\\begin{eqnarray*}\n",
    " u, \\eta, u, \\eta, u, \\eta, u, \\eta, u, \\eta, u, \\eta, u.\n",
    "\\end{eqnarray*}\n",
    "\n",
    "Use this grid and write a program to solve the shallow water equations numerically.\n",
    "Use forward-in-time, centred-in-space differencing for the continuity equation, and\n",
    "backward-in-time, centred-in-space differencing for the momentum equation.\n",
    "\n",
    "Take $\\rho_0=1000\\,kg\\,m^{-3}$, $H=10\\,m$, $L=100\\,km$, $g=9.8\\,m\\,s^{-2}$, $dx=5\\,km$, $dt=300\\,s$. Assume\n",
    "that wind stress is constant in time and homogeneous in space and take $F=0.01N m^{-2}$. Integrate the equations\n",
    "for two days and plot the results. (10 points)"
   ]
  },
  {
   "cell_type": "markdown",
   "metadata": {},
   "source": [
    "## 5\n",
    "\n",
    "We have for the forward-in-time, centred-in-space differencing for the continuity equation:\n",
    "\n",
    "$$\\frac{\\eta^{n+1}_{j} - \\eta^{n}_{j}}{\\Delta t} = -H \\frac{u^{n}_{j+1} - u^{n}_{j-1}}{2\\Delta x}$$\n",
    "\n",
    "For the backward-in-time, centred-in-space differencing for the momentum equation:\n",
    "\n",
    "$$\\frac{u^{n+1}_{j} - u^{n}_{j}}{\\Delta t} = -g \\frac{\\eta^{n+1}_{j+1} - \\eta^{n+1}_{j-1}}{2\\Delta x} + \\frac{F}{\\rho_{0}H}$$\n",
    "\n",
    "Considering $u$ and $\\eta$ in the same grid point."
   ]
  },
  {
   "cell_type": "code",
   "execution_count": null,
   "metadata": {},
   "outputs": [],
   "source": [
    "import numpy as np\n",
    "import matplotlib.pyplot as plt"
   ]
  },
  {
   "cell_type": "code",
   "execution_count": null,
   "metadata": {},
   "outputs": [],
   "source": [
    "# constants\n",
    "rho = 1000            #kg.m-3\n",
    "h = 10                #m\n",
    "L = 100 * 1e3         #m\n",
    "g = 9.8               #m.s-2\n",
    "dx = 5 * 1e3          #m\n",
    "dt = 300              #s\n",
    "F = 0.01              #N.m-2\n",
    "t_max = 2 * 24 * 3600 #s\n",
    "q_eta = (-h * dt / (2*dx))\n",
    "\n",
    "# x & time domain \n",
    "x = np.arange(0, L + dx/2, dx)\n",
    "t = np.arange(0, t_max + dt / 2, dt)\n",
    "mesht, meshx = np.meshgrid(t,x)\n",
    "\n",
    "jmax = len(x)\n",
    "n = int((t_max - 0) / dt)"
   ]
  },
  {
   "cell_type": "code",
   "execution_count": null,
   "metadata": {},
   "outputs": [],
   "source": []
  }
 ],
 "metadata": {
  "kernelspec": {
   "display_name": "Python [conda env:ws20climnum]",
   "language": "python",
   "name": "conda-env-ws20climnum-py"
  },
  "language_info": {
   "codemirror_mode": {
    "name": "ipython",
    "version": 3
   },
   "file_extension": ".py",
   "mimetype": "text/x-python",
   "name": "python",
   "nbconvert_exporter": "python",
   "pygments_lexer": "ipython3",
   "version": "3.7.8"
  }
 },
 "nbformat": 4,
 "nbformat_minor": 4
}
