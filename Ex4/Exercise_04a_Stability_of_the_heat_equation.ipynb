{
 "cells": [
  {
   "cell_type": "markdown",
   "metadata": {},
   "source": [
    "# Exercise 04a: Stability of the heat equation\n",
    "\n",
    "**Due:** _12 January 2021_"
   ]
  },
  {
   "cell_type": "markdown",
   "metadata": {},
   "source": [
    "**Names:** _Enter your names here._"
   ]
  },
  {
   "cell_type": "markdown",
   "metadata": {},
   "source": [
    "Consider the one dimensional heat equation\n",
    "\n",
    "$$\\frac{\\partial \\phi(x,t)}{\\partial t}=\\alpha^2\\frac{\\partial^2 \\phi}{\\partial x^2}$$\n",
    "\n",
    "in the domain $0 \\leq x \\leq 1$ and $0 \\leq t \\leq 5$ with $\\alpha=1/\\pi$.\n",
    "The boundary conditions are:\n",
    "\n",
    "$$\\phi(x=0,t)=\\phi(x=1,t)=0 \\text{ for all t}$$\n",
    "\n",
    "The initial condition is:\n",
    "\n",
    "$$\\phi(x,t=0)=cos\\left(\\pi(x-0.5)\\right) \\text{ for } 0 \\leq x \\leq 1$$\n",
    "\n",
    "1. Discretize the equation by forward Euler, backward Euler and leap-frog schemes and analyze their stabilities.\n",
    "\n",
    "2. Solve the equation numerically and compare with analytic solution. One should decide which scheme to use. Use $\\Delta x=0.1$ and $\\Delta t=0.01$.\n",
    "\n",
    "_**Hint:** its analytic solution is $\\phi(x,t)={\\rm e}^{-t}cos\\left(\\pi(x-0.5)\\right)$_"
   ]
  },
  {
   "cell_type": "code",
   "execution_count": null,
   "metadata": {},
   "outputs": [],
   "source": []
  },
  {
   "cell_type": "code",
   "execution_count": null,
   "metadata": {},
   "outputs": [],
   "source": []
  }
 ],
 "metadata": {
  "kernelspec": {
   "display_name": "Python [conda env:ws20climnum]",
   "language": "python",
   "name": "conda-env-ws20climnum-py"
  },
  "language_info": {
   "codemirror_mode": {
    "name": "ipython",
    "version": 3
   },
   "file_extension": ".py",
   "mimetype": "text/x-python",
   "name": "python",
   "nbconvert_exporter": "python",
   "pygments_lexer": "ipython3",
   "version": "3.7.8"
  }
 },
 "nbformat": 4,
 "nbformat_minor": 4
}
