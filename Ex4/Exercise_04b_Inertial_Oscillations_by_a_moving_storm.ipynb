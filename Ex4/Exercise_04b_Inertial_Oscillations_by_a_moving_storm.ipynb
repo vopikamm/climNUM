{
 "cells": [
  {
   "cell_type": "markdown",
   "metadata": {},
   "source": [
    "# Exercise 04b: Inertial oscillations excited by a moving strom\n",
    "\n",
    "**Due:** _12 January 2021_"
   ]
  },
  {
   "cell_type": "markdown",
   "metadata": {},
   "source": [
    "**Names:** _Enter your names here._"
   ]
  },
  {
   "cell_type": "markdown",
   "metadata": {},
   "source": [
    "Consider that there is a storm in the atmosphere which is moving northward at a speed of $v_s$. The horizontal pressure structure of the storm is\n",
    "\n",
    "$$p=-p_0 e^{-(\\frac{r}{L})^2}$$\n",
    "\n",
    "where $r$ is distance from the centre $(x=0,y=y_0+v_s t)$ of the storm, hence $r^2=x^2+(y-y_0-v_s t)^2$.\n",
    "And the atmosphere motion driven by the storm is governed by the inertial oscillation equation\n",
    "\n",
    "$$\\frac{\\partial q}{\\partial t} + ifq = X,$$\n",
    "\n",
    "where $q=u+iv$, $i=\\sqrt{-1}$ and $X=-(\\frac{\\partial p}{\\partial x} + i\\frac{\\partial p}{\\partial y})$. Initially, the atmospheric motion is in geostrophic balance with the pressure perturbation associated with the storm, e.g. $ifq=X$ at $t=0$. The initial position of the storm is $y_0=-500km$ and its northward speed is $v_s=10km/h$.\n",
    "\n",
    "Take $f=10^{-4} s^{-1}$, $p_0=2hPa$, $L=100km$, $\\Delta x = \\Delta y = 25km$ and $\\Delta t=100s, 2000s$. Solve the equation numerically in the range $-1000km \\leq x \\leq 1000km$ and $-1000km \\leq y \\leq 1000km$. Justify your choice of time stepping scheme. Note that you have an analytical expression for the pressure perturbation associated with the storm, so you do to have to discretize the expression for $X$ but you shall use the exact value.\n",
    "\n",
    "Plot pressure $p$ and $u,v$ when the storm is $-500km$, $-250km$, $0km$, $250km$ and $500km$ with respect to origin in the y-axis. Think about how to best present what is going on and try to explain the asymmetry in the response with respect to the track of the storm."
   ]
  },
  {
   "cell_type": "code",
   "execution_count": null,
   "metadata": {},
   "outputs": [],
   "source": []
  },
  {
   "cell_type": "code",
   "execution_count": null,
   "metadata": {},
   "outputs": [],
   "source": []
  }
 ],
 "metadata": {
  "kernelspec": {
   "display_name": "Python [conda env:ws20climnum]",
   "language": "python",
   "name": "conda-env-ws20climnum-py"
  },
  "language_info": {
   "codemirror_mode": {
    "name": "ipython",
    "version": 3
   },
   "file_extension": ".py",
   "mimetype": "text/x-python",
   "name": "python",
   "nbconvert_exporter": "python",
   "pygments_lexer": "ipython3",
   "version": "3.7.8"
  }
 },
 "nbformat": 4,
 "nbformat_minor": 4
}
