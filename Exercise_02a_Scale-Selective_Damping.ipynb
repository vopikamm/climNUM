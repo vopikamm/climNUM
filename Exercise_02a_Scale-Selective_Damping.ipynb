{
 "cells": [
  {
   "cell_type": "markdown",
   "metadata": {},
   "source": [
    "# Exercise 02.a: Scale-selective damping\n",
    "\n",
    "**Due:** _25 November 2020_"
   ]
  },
  {
   "cell_type": "markdown",
   "metadata": {},
   "source": [
    "**Names:** _Enter your names here._  (Up to 3 people can submit together.)"
   ]
  },
  {
   "cell_type": "markdown",
   "metadata": {},
   "source": [
    "Consider the harmonic and biharmonic diffusion equations\n",
    "\n",
    "$$\n",
    "  \\frac{\\partial u}{\\partial t} = A_2 \\frac{\\partial^2 u}{\\partial x^2} \\quad\\text{(harmonic)}\n",
    "  \\qquad\\qquad\n",
    "  \\frac{\\partial u}{\\partial t} = -A_4 \\frac{\\partial^4 u}{\\partial x^4} \\quad\\text{(biharmonic)}\n",
    "$$\n",
    "\n",
    "where $A_2$ and $A_4$ are the positive definite harmonic and biharmonic diffusion coefficients,\n",
    "respectively.\n",
    "\n",
    "1. Discretize the harmonic equation in the x direction. Derive the damping time scale as a function of wave number.\n",
    "\n",
    "1. Discretize the biharmonic equation in the x direction. Derive the damping time scale as a function of wave number.\n",
    "\n",
    "1. Plot both damping time scales as a function of wave number. How do they differ for long and short waves and why?\n",
    "\n",
    "1. Derive the damping time scale as a function of wave number for the analytic solution of both equations and compare them to the time scales implied by the finite difference equations.\n",
    "\n",
    "1. Show that in the limit $\\Delta x \\rightarrow 0$, the damping time scales of the discretized and of the analytical solution are the same."
   ]
  },
  {
   "cell_type": "markdown",
   "metadata": {},
   "source": [
    "**Hint:** Since the analytical solution of both diffusion equations has the form\n",
    "\n",
    "$$u(x, t) = \\hat{u}(t) {\\rm e}^{ikx}$$\n",
    "\n",
    "where $\\hat{u}$ is independent of $x$, $i=\\sqrt{-1}$ and $k$ is the wave number.\n",
    "After discretizing the equations in the x direction, one can substitute $u(j\\Delta x, t)$\n",
    "into the discrete equation to get the damping coefficient as a function of wave number $k$."
   ]
  },
  {
   "cell_type": "code",
   "execution_count": null,
   "metadata": {},
   "outputs": [],
   "source": []
  },
  {
   "cell_type": "code",
   "execution_count": null,
   "metadata": {},
   "outputs": [],
   "source": []
  }
 ],
 "metadata": {
  "kernelspec": {
   "display_name": "Python [conda env:ws20climnum]",
   "language": "python",
   "name": "conda-env-ws20climnum-py"
  },
  "language_info": {
   "codemirror_mode": {
    "name": "ipython",
    "version": 3
   },
   "file_extension": ".py",
   "mimetype": "text/x-python",
   "name": "python",
   "nbconvert_exporter": "python",
   "pygments_lexer": "ipython3",
   "version": "3.7.8"
  }
 },
 "nbformat": 4,
 "nbformat_minor": 2
}
