{
 "cells": [
  {
   "cell_type": "markdown",
   "metadata": {},
   "source": [
    "# Exercise 02.a: Scale-selective damping\n",
    "\n",
    "**Due:** _25 November 2020_"
   ]
  },
  {
   "cell_type": "markdown",
   "metadata": {},
   "source": [
    "**Names:** David, Lukas, Mariana, Linus (for now:D)  (Up to 3 people can submit together.)"
   ]
  },
  {
   "cell_type": "markdown",
   "metadata": {},
   "source": [
    "Consider the harmonic and biharmonic diffusion equations\n",
    "\n",
    "$$\n",
    "  \\frac{\\partial u}{\\partial t} = A_2 \\frac{\\partial^2 u}{\\partial x^2} \\quad\\text{(harmonic)}\n",
    "  \\qquad\\qquad\n",
    "  \\frac{\\partial u}{\\partial t} = -A_4 \\frac{\\partial^4 u}{\\partial x^4} \\quad\\text{(biharmonic)}\n",
    "$$\n",
    "\n",
    "where $A_2$ and $A_4$ are the positive definite harmonic and biharmonic diffusion coefficients,\n",
    "respectively.\n",
    "\n",
    "1. Discretize the harmonic equation in the x direction. Derive the damping time scale as a function of wave number.\n",
    "\n",
    "1. Discretize the biharmonic equation in the x direction. Derive the damping time scale as a function of wave number.\n",
    "\n",
    "1. Plot both damping time scales as a function of wave number. How do they differ for long and short waves and why?\n",
    "\n",
    "1. Derive the damping time scale as a function of wave number for the analytic solution of both equations and compare them to the time scales implied by the finite difference equations.\n",
    "\n",
    "1. Show that in the limit $\\Delta x \\rightarrow 0$, the damping time scales of the discretized and of the analytical solution are the same."
   ]
  },
  {
   "cell_type": "markdown",
   "metadata": {},
   "source": [
    "**Hint:** Since the analytical solution of both diffusion equations has the form\n",
    "\n",
    "$$u(x, t) = \\hat{u}(t) {\\rm e}^{ikx}$$\n",
    "\n",
    "where $\\hat{u}$ is independent of $x$, $i=\\sqrt{-1}$ and $k$ is the wave number.\n",
    "After discretizing the equations in the x direction, one can substitute $u(j\\Delta x, t)$\n",
    "into the discrete equation to get the damping coefficient as a function of wave number $k$."
   ]
  },
  {
   "cell_type": "markdown",
   "metadata": {},
   "source": [
    "## 1.)\n",
    "To discretize the harmonic equation in space, we make use of the derivation of the discrete second order derivative in the script. (eq. 1.12)\n",
    "With this, the harmonic equation takes the form\n",
    "\n",
    "$$\n",
    "\\frac{\\partial}{\\partial t} u_{i} = A_{2}\\frac{\\partial^{2} u_{i}}{\\partial x^{2}} = A_{2}\\frac{u_{i+1}-2 u_{i}+u_{i-1}}{\\Delta x^2}\n",
    "$$\n",
    "\n",
    "Substituting the analytical solution for each gridpoint \n",
    "\n",
    "$$\n",
    "u_{j}(x,t) = \\hat{u}(t) e^{i k (j \\Delta x)}\n",
    "$$\n",
    "\n",
    "as given in the hint, yields\n",
    "\n",
    "\\begin{align}\n",
    "\\frac{\\partial}{\\partial t} \\hat{u}(t) e^{i k j \\Delta x} &= \\hat{u}(t)\\frac{A_{2}}{\\Delta x^2}\\left( e^{i k (j+1) \\Delta x}-2  e^{i k j \\Delta x} +  e^{i k (j-1) \\Delta x} \\right) \\notag \\\\\n",
    "&= \\frac{A_{2}}{\\Delta x^2}\\left( e^{i k j \\Delta x} e^{i k \\Delta x}-2  e^{i k j \\Delta x} +  e^{i k j \\Delta x} e^{i k \\Delta x} \\right)\\hat{u}(t).\n",
    "\\end{align}\n",
    "\n",
    "Deviding by $e^{i k j \\Delta x}$ then leaves\n",
    "\n",
    "$$\n",
    "\\frac{\\partial}{\\partial t} \\hat{u}(t) = \\frac{A_{2}}{\\Delta x^2} \\left( e^{i k  \\Delta x} + e^{- i k \\Delta x} -2 \\right) \\hat{u}(t) \n",
    "$$\n",
    "\n",
    "Using $ e^{i k  \\Delta x} + e^{- i k \\Delta x} = 2 \\cos(k \\Delta x)$ simplifies above to \n",
    "\n",
    "$$\n",
    "\\frac{\\partial}{\\partial t} \\hat{u}(t) = \\frac{2 A_{2}}{\\Delta x^2} \\left( \\cos(k \\Delta x) -1 \\right) \\hat{u}(t).\n",
    "$$\n",
    "\n",
    "While this simple ODE is well understood, the solution for $\\hat{u}(t)$ is of form\n",
    "\n",
    "$$\n",
    "\\hat{u}(t) \\propto e^{\\frac{2 A_{2}}{\\Delta x^2} \\left( \\cos(k \\Delta x) -1 \\right) t},\n",
    "$$\n",
    "\n",
    "where the damping time scale can be identified as the negative inverse of the exponent (since $\\hat{u}(t)\\propto e^{-\\frac{t}{\\tau}}$):\n",
    "\n",
    "$$\n",
    "\\tau = \\frac{\\Delta x^2}{ 2 A_{2}\\left(1- \\cos(k \\Delta x) \\right)}\n",
    "$$"
   ]
  },
  {
   "cell_type": "code",
   "execution_count": null,
   "metadata": {},
   "outputs": [],
   "source": [
    "%matplotlib inline\n",
    "import numpy as np\n",
    "from matplotlib import pyplot as plt"
   ]
  },
  {
   "cell_type": "code",
   "execution_count": null,
   "metadata": {},
   "outputs": [],
   "source": [
    "def tau(k,dx)"
   ]
  },
  {
   "cell_type": "markdown",
   "metadata": {},
   "source": [
    "Discretized $x$ in spatial direction on a grid $G={ x: x=\\frac{1}{2}(i)} $ with $i=0,1,2,...20$"
   ]
  },
  {
   "cell_type": "code",
   "execution_count": 76,
   "metadata": {},
   "outputs": [],
   "source": [
    "D = Diffusion()"
   ]
  },
  {
   "cell_type": "code",
   "execution_count": 75,
   "metadata": {},
   "outputs": [],
   "source": [
    "class Diffusion:\n",
    "    def __init__(self, params=None):\n",
    "        if params is None:\n",
    "            params  = {'N': 21, 'L': 10, 'A_2': 1., 'A_4': 1.}\n",
    "            \n",
    "        self.N     = params['N']\n",
    "        self.L     = params['L']\n",
    "        self.A_2   = params['A_2']\n",
    "        self.A_4   = params['A_4']\n",
    "        self.dx    = self.L / (self.N -1)\n",
    "        self.x     = self.dx*np.arange(self.N)\n",
    "        self.A_h   = self.A_harmonic()\n",
    "        self.A_b   = self.A_biharmonic()\n",
    "        \n",
    "    def A_harmonic(self):\n",
    "        #harmonic matrix:\n",
    "        A = np.zeros((self.N-2, self.N-2))\n",
    "        indices = np.arange(self.N -2)\n",
    "\n",
    "        # set diagonal\n",
    "        A[indices, indices] = -2 / self.dx ** 2\n",
    "\n",
    "        # set off-diagonal\n",
    "        A[indices[:-1], indices[:-1] + 1] = 1 / self.dx ** 2\n",
    "        A[indices[:-1] + 1, indices[:-1]] = 1 / self.dx ** 2\n",
    "        return A\n",
    "    \n",
    "    def A_biharmonic(self):\n",
    "        #harmonic matrix:\n",
    "        A = self.A_h * self.A_h\n",
    "        return A\n",
    "    \n",
    "    def display(self):\n",
    "        print('N:      ', self.N)\n",
    "        print('L:      ', self.L)\n",
    "        print('A_2:    ', self.A_2)\n",
    "        print('A_4:    ', self.A_4)\n",
    "        print('dx:     ', self.dx)\n",
    "        print('x:      ', self.x)\n",
    "        \n",
    "    def tau_h(self, k):\n",
    "        return(self.dx**2 / (2*self.A_2*(1-np.cos(k*self.dx))))\n",
    "    \n",
    "    def tau_b(self, k):\n",
    "        return(self.dx**4/(24*self.A_4*(np.cos(k*self.dx)-1)*(1-(self.A_2/self.dx**4))))\n",
    "    \n",
    "    def tau_plot(self, k):\n",
    "        fig, ax1 = plt.subplots()\n",
    "        ax2 = ax1.twinx()\n",
    "        ax1.plot(k,self.tau_h(k),color='midnightblue',label='harmonic')\n",
    "        ax2.plot(k,self.tau_b(k),color='darkred',label='biharmonic')\n",
    "        ax1.set_ylabel(r'$\\tau$ harmonic')\n",
    "        ax2.set_ylabel(r'$\\tau$ biharmonic')\n",
    "        ax1.set_xlabel(r'$k$')\n",
    "        plt.show()"
   ]
  },
  {
   "cell_type": "code",
   "execution_count": 77,
   "metadata": {},
   "outputs": [
    {
     "data": {
      "image/png": "[encoded data removed]",
      "text/plain": [
       "<Figure size 432x288 with 2 Axes>"
      ]
     },
     "metadata": {
      "needs_background": "light"
     },
     "output_type": "display_data"
    }
   ],
   "source": [
    "D.tau_plot(k)"
   ]
  },
  {
   "cell_type": "code",
   "execution_count": 50,
   "metadata": {},
   "outputs": [],
   "source": [
    "k = np.linspace(0.1,1,1000)"
   ]
  },
  {
   "cell_type": "code",
   "execution_count": 55,
   "metadata": {},
   "outputs": [
    {
     "data": {
      "text/plain": [
       "[<matplotlib.lines.Line2D at 0x7fca0d14ec10>]"
      ]
     },
     "execution_count": 55,
     "metadata": {},
     "output_type": "execute_result"
    },
    {
     "data": {
      "image/png": "[encoded data removed]",
      "text/plain": [
       "<Figure size 432x288 with 1 Axes>"
      ]
     },
     "metadata": {
      "needs_background": "light"
     },
     "output_type": "display_data"
    }
   ],
   "source": [
    "plt.plot(k,D.tau_b(k))"
   ]
  },
  {
   "cell_type": "code",
   "execution_count": null,
   "metadata": {},
   "outputs": [],
   "source": []
  }
 ],
 "metadata": {
  "kernelspec": {
   "display_name": "Python [conda env:ws20climnum]",
   "language": "python",
   "name": "conda-env-ws20climnum-py"
  },
  "language_info": {
   "codemirror_mode": {
    "name": "ipython",
    "version": 3
   },
   "file_extension": ".py",
   "mimetype": "text/x-python",
   "name": "python",
   "nbconvert_exporter": "python",
   "pygments_lexer": "ipython3",
   "version": "3.7.8"
  }
 },
 "nbformat": 4,
 "nbformat_minor": 2
}
