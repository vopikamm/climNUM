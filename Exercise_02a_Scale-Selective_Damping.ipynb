{
 "cells": [
  {
   "cell_type": "markdown",
   "metadata": {},
   "source": [
    "# Exercise 02.a: Scale-selective damping\n",
    "\n",
    "**Due:** _25 November 2020_"
   ]
  },
  {
   "cell_type": "markdown",
   "metadata": {},
   "source": [
    "**Names:** David, Lukas, Mariana, Linus (for now:D)  (Up to 3 people can submit together.)"
   ]
  },
  {
   "cell_type": "markdown",
   "metadata": {},
   "source": [
    "Consider the harmonic and biharmonic diffusion equations\n",
    "\n",
    "$$\n",
    "  \\frac{\\partial u}{\\partial t} = A_2 \\frac{\\partial^2 u}{\\partial x^2} \\quad\\text{(harmonic)}\n",
    "  \\qquad\\qquad\n",
    "  \\frac{\\partial u}{\\partial t} = -A_4 \\frac{\\partial^4 u}{\\partial x^4} \\quad\\text{(biharmonic)}\n",
    "$$\n",
    "\n",
    "where $A_2$ and $A_4$ are the positive definite harmonic and biharmonic diffusion coefficients,\n",
    "respectively.\n",
    "\n",
    "1. Discretize the harmonic equation in the x direction. Derive the damping time scale as a function of wave number.\n",
    "\n",
    "1. Discretize the biharmonic equation in the x direction. Derive the damping time scale as a function of wave number.\n",
    "\n",
    "1. Plot both damping time scales as a function of wave number. How do they differ for long and short waves and why?\n",
    "\n",
    "1. Derive the damping time scale as a function of wave number for the analytic solution of both equations and compare them to the time scales implied by the finite difference equations.\n",
    "\n",
    "1. Show that in the limit $\\Delta x \\rightarrow 0$, the damping time scales of the discretized and of the analytical solution are the same."
   ]
  },
  {
   "cell_type": "markdown",
   "metadata": {},
   "source": [
    "**Hint:** Since the analytical solution of both diffusion equations has the form\n",
    "\n",
    "$$u(x, t) = \\hat{u}(t) {\\rm e}^{ikx}$$\n",
    "\n",
    "where $\\hat{u}$ is independent of $x$, $i=\\sqrt{-1}$ and $k$ is the wave number.\n",
    "After discretizing the equations in the x direction, one can substitute $u(j\\Delta x, t)$\n",
    "into the discrete equation to get the damping coefficient as a function of wave number $k$."
   ]
  },
  {
   "cell_type": "markdown",
   "metadata": {},
   "source": [
    "## 1.)\n",
    "To discretize the harmonic equation in space, we make use of the derivation of the discrete second order derivative in the script. (eq. 1.12)\n",
    "With this, the harmonic equation takes the form\n",
    "\n",
    "$$\n",
    "\\frac{\\partial}{\\partial t} u_{i} = A_{2}\\frac{\\partial^{2} u_{i}}{\\partial x^{2}} = A_{2}\\frac{u_{i+1}-2 u_{i}+u_{i-1}}{\\Delta x^2}\n",
    "$$\n",
    "\n",
    "Substituting the analytical solution for each gridpoint \n",
    "\n",
    "$$\n",
    "u_{j}(x,t) = \\hat{u}(t) e^{i k (j \\Delta x)}\n",
    "$$\n",
    "\n",
    "as given in the hint, yields\n",
    "\n",
    "\\begin{align}\n",
    "\\frac{\\partial}{\\partial t} \\hat{u}(t) e^{i k j \\Delta x} &= \\hat{u}(t)\\frac{A_{2}}{\\Delta x^2}\\left( e^{i k (j+1) \\Delta x}-2  e^{i k j \\Delta x} +  e^{i k (j-1) \\Delta x} \\right) \\notag \\\\\n",
    "&= \\frac{A_{2}}{\\Delta x^2}\\left( e^{i k j \\Delta x} e^{i k \\Delta x}-2  e^{i k j \\Delta x} +  e^{i k j \\Delta x} e^{i k \\Delta x} \\right)\\hat{u}(t).\n",
    "\\end{align}\n",
    "\n",
    "Deviding by $e^{i k j \\Delta x}$ then leaves\n",
    "\n",
    "$$\n",
    "\\frac{\\partial}{\\partial t} \\hat{u}(t) = \\frac{A_{2}}{\\Delta x^2} \\left( e^{i k  \\Delta x} + e^{- i k \\Delta x} -2 \\right) \\hat{u}(t) \n",
    "$$\n",
    "\n",
    "Using $ e^{i k  \\Delta x} + e^{- i k \\Delta x} = 2 \\cos(k \\Delta x)$ simplifies above to \n",
    "\n",
    "$$\n",
    "\\frac{\\partial}{\\partial t} \\hat{u}(t) = \\frac{2 A_{2}}{\\Delta x^2} \\left( \\cos(k \\Delta x) -1 \\right) \\hat{u}(t).\n",
    "$$\n",
    "\n",
    "While this simple ODE is well understood, the solution for $\\hat{u}(t)$ is of form\n",
    "\n",
    "$$\n",
    "\\hat{u}(t) \\propto e^{\\frac{2 A_{2}}{\\Delta x^2} \\left( \\cos(k \\Delta x) -1 \\right) t},\n",
    "$$\n",
    "\n",
    "where the damping time scale can be identified as the negative inverse of the exponent (since $\\hat{u}(t)\\propto e^{-\\frac{t}{\\tau}}$):\n",
    "\n",
    "$$\n",
    "\\tau_{h} = \\frac{\\Delta x^2}{ 2 A_{2}\\left(1- \\cos(k \\Delta x) \\right)}\n",
    "$$"
   ]
  },
  {
   "cell_type": "markdown",
   "metadata": {},
   "source": [
    "## 2.)\n",
    "\n",
    "To discretizing the biharmonic equation in space, we make use of the derivation of the discrete second order derivative as in 1.), but applying it twice. Namely\n",
    "\n",
    "$$\n",
    "\\frac{\\partial}{\\partial t} u_{j} = - A_{4}\\frac{\\partial^{4} u_{j}}{\\partial x^{4}} = -A_{4}\\frac{\\partial^2 f_{j}}{\\partial x^2}\n",
    "$$\n",
    "\n",
    "with \n",
    "\n",
    "$$\n",
    "f_{j}=\\frac{\\partial^2 u_{j}}{\\partial x^2}\n",
    "$$\n",
    "\n",
    "Sparing algebraic details this yields\n",
    "\n",
    "\\begin{align}\n",
    "\\frac{\\partial}{\\partial t} \\hat{u}(t) e^{i k j \\Delta x} &= - A_{4} \\left( \\frac{u_{j+2}-4 u_{j+1}+6 u_{j}-4 u_{j-1}=u_{j-2}}{\\Delta x^4} \\right) \\hat{u}(t) \\notag \\\\\n",
    "&= - \\frac{A_{4}}{\\Delta x^4} e^{ikj \\Delta x}\\left( e^{2ik \\Delta x}-4 e^{ik \\Delta x}+6-4 e^{-ik \\Delta x}+e^{-2ik \\Delta x} \\right) \\hat{u}(t) \\notag \\\\\n",
    "&= - \\frac{A_{4}}{\\Delta x^4} e^{ikj \\Delta x}\\left( 2 \\cos(2k \\Delta x) -8\\cos(2k \\Delta x)+6 \\right) \\hat{u}(t)\n",
    "\\end{align}\n",
    "\n",
    "\n",
    "The solution for $\\hat{u}(t)$ is of the same form as the previous case, therefore the damping time scale is given by:\n",
    "\n",
    "$$\n",
    "\\tau_{b} = \\frac{\\Delta x^4}{A_{4} 2\\left( \\cos(2k \\Delta x) -4\\cos(2k \\Delta x)+3 \\right) }\n",
    "$$\n"
   ]
  },
  {
   "cell_type": "markdown",
   "metadata": {},
   "source": [
    "## 3.)\n"
   ]
  },
  {
   "cell_type": "code",
   "execution_count": 3,
   "metadata": {},
   "outputs": [],
   "source": [
    "%matplotlib inline\n",
    "import numpy as np\n",
    "from matplotlib import pyplot as plt"
   ]
  },
  {
   "cell_type": "code",
   "execution_count": 9,
   "metadata": {},
   "outputs": [
    {
     "name": "stdout",
     "output_type": "stream",
     "text": [
      "N:       21\n",
      "L:       10\n",
      "A_2:     1.0\n",
      "A_4:     1.0\n",
      "dx:      0.5\n",
      "x:       [ 0.   0.5  1.   1.5  2.   2.5  3.   3.5  4.   4.5  5.   5.5  6.   6.5\n",
      "  7.   7.5  8.   8.5  9.   9.5 10. ]\n"
     ]
    }
   ],
   "source": [
    "#Initializing diffusion object, grid and diffusion parameters are set to default values\n",
    "D = Diffusion()\n",
    "D.display()"
   ]
  },
  {
   "cell_type": "code",
   "execution_count": 13,
   "metadata": {},
   "outputs": [
    {
     "data": {
      "image/png": "[encoded data removed]",
      "text/plain": [
       "<Figure size 432x288 with 2 Axes>"
      ]
     },
     "metadata": {
      "needs_background": "light"
     },
     "output_type": "display_data"
    },
    {
     "data": {
      "image/png": "[encoded data removed]",
      "text/plain": [
       "<Figure size 432x288 with 2 Axes>"
      ]
     },
     "metadata": {
      "needs_background": "light"
     },
     "output_type": "display_data"
    }
   ],
   "source": [
    "D.k = np.linspace(0.05,0.1,1000)\n",
    "D.tau_plot(D.tau_h_dis(),D.tau_b_dis())\n",
    "\n",
    "D.k = np.linspace(1,11,1000)\n",
    "D.tau_plot(D.tau_h_dis(),D.tau_b_dis())"
   ]
  },
  {
   "cell_type": "markdown",
   "metadata": {},
   "source": [
    "Also note, that the damping time scales diverge periodically with $k=n\\frac{2 \\pi}{\\Delta x}$ with $n = 0,1,2... $. Within this periodicity, the damping timescales are decreasing with decreasing wavelength. Shorter waves are thus damped much faster than longer waves for both equations, with the biharmonic equation damping overall faster than the harmonic equation. "
   ]
  },
  {
   "cell_type": "markdown",
   "metadata": {},
   "source": [
    "## 4.)\n",
    "To derive the damping time scales for the analytical solution, we substitute the solution as given in the hint into the harmonic equation.\n",
    "\n",
    "\\begin{align}\n",
    "\\frac{\\partial u}{\\partial t} &= A_{2}\\frac{\\partial^2 u}{\\partial x^2}  \\\\\n",
    "e^{i k x} \\frac{\\partial \\hat{u}}{\\partial t} &= A_{2} \\hat{u} \\frac{\\partial^2 }{\\partial x^2} e^{i k x} \\\\\n",
    "e^{i k x} \\frac{\\partial \\hat{u}}{\\partial t} &= -A_{2} \\hat{u} k^2 e^{i k x} \\\\\n",
    "\\frac{\\partial \\hat{u}}{\\partial t} &= -A_{2} k^2 \\hat{u}\n",
    "\\end{align}\n",
    "\n",
    "As before, the harmonic damping time scale can be identified\n",
    "\n",
    "$$\n",
    "\\tau_{h} = \\frac{1}{k^2 A_2}\n",
    "$$\n",
    "\n",
    "The biharmonic damping coefficient can be derived analogously as \n",
    "\n",
    "$$\n",
    "\\tau_{b} = \\frac{1}{k^4 A_{4}}\n",
    "$$"
   ]
  },
  {
   "cell_type": "code",
   "execution_count": null,
   "metadata": {},
   "outputs": [
    {
     "data": {
      "image/png": "[encoded data removed]",
      "text/plain": [
       "<Figure size 432x288 with 2 Axes>"
      ]
     },
     "metadata": {
      "needs_background": "light"
     },
     "output_type": "display_data"
    }
   ],
   "source": [
    "D.k = np.linspace(1,10,1000)\n",
    "D.tau_plot(D.tau_h_ana(),D.tau_h_dis(),ylabel=(r'$\\tau_{h}$ analytical',r'$\\tau_{h}$ discrete'))\n",
    "\n",
    "D.tau_plot(D.tau_b_ana(),D.tau_b_dis(),ylabel=(r'$\\tau_{b}$ analytical',r'$\\tau_{b}$ discrete'))"
   ]
  },
  {
   "cell_type": "markdown",
   "metadata": {},
   "source": [
    "The discrete solutions show smaller damping time scales for both equations, with a way stronger difference for the biharmonic case (Mind the scales!). However, the analytic solutions do not show any periodicity. Therefore the discrete solution can still have larger damping time scales for very short waves.  "
   ]
  },
  {
   "cell_type": "markdown",
   "metadata": {},
   "source": [
    "## 5.)\n",
    "In the limit of $\\Delta x \\rightarrow 0$, the denominator and numerator get zero for both, harmonic and biharmonic damping time scale. Therefore, L'Hôpitals rule needs to be considered.\n",
    "\n",
    "$$\n",
    "\\lim_{\\Delta x \\rightarrow 0} \\frac{f(\\Delta x)}{g(\\Delta x)} = \\lim_{\\Delta x \\rightarrow 0} \\frac{f'(\\Delta x)}{g'(\\Delta x)}\n",
    "$$\n",
    "\n",
    "Applying this twice for the harmonic and four times for the biharmonic then yields:\n",
    "\n",
    "\\begin{align}\n",
    "\\lim_{\\Delta x \\rightarrow 0} \\frac{\\Delta x^2}{ 2 A_{2}\\left(1- \\cos(k \\Delta x) \\right)} &= \\lim_{\\Delta x \\rightarrow 0} \\frac{2}{ 2 A_{2} k^2 \\cos(k \\Delta x)} &&= \\frac{1}{A_{2} k^2} \\\\\n",
    "\\lim_{\\Delta x \\rightarrow 0} \\frac{\\Delta x^4}{A_{4} 2\\left( \\cos(2k \\Delta x) -4\\cos(2k \\Delta x)+3 \\right) } &= \\lim_{\\Delta x \\rightarrow 0} \\frac{24}{ 2 A_{4} k^4 (16\\cos(2k \\Delta x)-4\\cos(k \\Delta x))} &&= \\frac{1}{A_{4} k^4}\n",
    "\\end{align}"
   ]
  },
  {
   "cell_type": "code",
   "execution_count": 8,
   "metadata": {},
   "outputs": [],
   "source": [
    "class Diffusion:\n",
    "    def __init__(self, params=None):\n",
    "        if params is None:\n",
    "            params  = {'N': 21, 'L': 10, 'A_2': 1., 'A_4': 1., 'k_lim':(0.01,1.)}\n",
    "            \n",
    "        self.N     = params['N']\n",
    "        self.L     = params['L']\n",
    "        self.A_2   = params['A_2']\n",
    "        self.A_4   = params['A_4'] \n",
    "        self.k_lim = params['k_lim']\n",
    "        self.update_params()\n",
    "\n",
    "        \n",
    "    def A_harmonic(self):\n",
    "        #harmonic matrix:\n",
    "        A = np.zeros((self.N-2, self.N-2))\n",
    "        indices = np.arange(self.N -2)\n",
    "\n",
    "        # set diagonal\n",
    "        A[indices, indices] = -2 / self.dx ** 2\n",
    "\n",
    "        # set off-diagonal\n",
    "        A[indices[:-1], indices[:-1] + 1] = 1 / self.dx ** 2\n",
    "        A[indices[:-1] + 1, indices[:-1]] = 1 / self.dx ** 2\n",
    "        return A\n",
    "    \n",
    "    def A_biharmonic(self):\n",
    "        #harmonic matrix:\n",
    "        A = self.A_h * self.A_h\n",
    "        return A\n",
    "    \n",
    "    def display(self):\n",
    "        print('N:      ', self.N)\n",
    "        print('L:      ', self.L)\n",
    "        print('A_2:    ', self.A_2)\n",
    "        print('A_4:    ', self.A_4)\n",
    "        print('dx:     ', self.dx)\n",
    "        print('x:      ', self.x)\n",
    "        \n",
    "    def tau_h_dis(self):\n",
    "        return(self.dx**2 / (2*self.A_2*(1-np.cos(self.k*self.dx))))\n",
    "    \n",
    "    def tau_b_dis(self):\n",
    "        return((self.dx**4)/(2*self.A_4*(np.cos(2*self.k*self.dx)-4*np.cos(self.k*self.dx)+3)))\n",
    "    \n",
    "    def tau_h_ana(self):\n",
    "        return(1/(self.A_2*self.k**2))\n",
    "    \n",
    "    def tau_b_ana(self):\n",
    "        return(1/(self.A_4*self.k**4))\n",
    "    \n",
    "    def update_params(self):\n",
    "        self.dx    = self.L / (self.N -1)\n",
    "        self.x     = self.dx*np.arange(self.N)\n",
    "        self.A_h   = self.A_harmonic()\n",
    "        self.A_b   = self.A_biharmonic()\n",
    "        self.k   = np.linspace(self.k_lim[0],self.k_lim[1],1000)\n",
    "        \n",
    "    def tau_plot(self, tau_h, tau_b, ylabel=(r'$\\tau$ harmonic',r'$\\tau$ biharmonic')):\n",
    "        fig, ax1 = plt.subplots()\n",
    "        ax2 = ax1.twinx()\n",
    "        ax1.plot(self.k,tau_h,color='midnightblue',label='harmonic')\n",
    "        ax2.plot(self.k,tau_b,color='darkred',label='biharmonic')\n",
    "        ax1.set_ylabel(ylabel[0],color='midnightblue')\n",
    "        ax2.set_ylabel(ylabel[1],color='darkred')\n",
    "        ax1.set_xlabel(r'$k$')\n",
    "        ax1.tick_params(axis='y', labelcolor='midnightblue')\n",
    "        ax2.tick_params(axis='y', labelcolor='darkred')\n",
    "        plt.show()"
   ]
  },
  {
   "cell_type": "code",
   "execution_count": null,
   "metadata": {},
   "outputs": [],
   "source": []
  }
 ],
 "metadata": {
  "kernelspec": {
   "display_name": "Python [conda env:ws20climnum]",
   "language": "python",
   "name": "conda-env-ws20climnum-py"
  },
  "language_info": {
   "codemirror_mode": {
    "name": "ipython",
    "version": 3
   },
   "file_extension": ".py",
   "mimetype": "text/x-python",
   "name": "python",
   "nbconvert_exporter": "python",
   "pygments_lexer": "ipython3",
   "version": "3.7.8"
  }
 },
 "nbformat": 4,
 "nbformat_minor": 2
}
