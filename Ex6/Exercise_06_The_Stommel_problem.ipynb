{
 "cells": [
  {
   "cell_type": "markdown",
   "metadata": {},
   "source": [
    "# Exercise 06: The Stommel problem\n",
    "\n",
    "**Due:** _2 February 2021_"
   ]
  },
  {
   "cell_type": "markdown",
   "metadata": {},
   "source": [
    "**Names:** _Enter your names here._  (Up to 4 people can submit together.)"
   ]
  },
  {
   "cell_type": "markdown",
   "metadata": {},
   "source": [
    "Consider the vorticity equation for a linear, flat bottom, barotropic, viscid ocean\n",
    "in steady state on an mid-latitude beta plane, forced by a zonally uniform zonal\n",
    "wind stress\n",
    "\\begin{equation}\n",
    "  \\gamma\\nabla^2\\psi + \\beta\\frac{\\partial \\psi}{\\partial x}\n",
    "  = -\\frac{\\partial}{\\partial y}\\left(\\frac{\\tau^x}{\\rho_0 H}\\right)\n",
    "\\end{equation}\n",
    "where $\\psi$ is the stream function of the vertically averaged velocity $u$ and\n",
    "$v$, i.e. $\\psi_x = v$ and $\\psi_y = -u$, $\\gamma$ is the damping time scale,\n",
    "$\\beta = \\frac{\\partial f}{\\partial y}$, $\\rho_0$ is a reference density, $H$ is the depth of the Ocean and $\\tau^x$ is the zonal wind stress.\n",
    "\n",
    "Take $H=5000\\,m$, $\\rho_0=1000\\,kg\\,m^{-3}$, $\\gamma = 0.1\\,days^{-1}$ and\n",
    "$\\beta = 2\\cdot10^{-11}\\,m^{-1}s^{-1}$. The size of the basin is $L_x = 10000\\,km$\n",
    "in the zonal direction and $L_y = 4000\\,km$ in the meridional direction. The wind\n",
    "stress is given by $\\tau^x = \\tau_0 \\sin(\\pi \\frac{y - y_0}{L_y})$ with\n",
    "$\\tau_0 = 0.01\\,Nm^{-2}$ and $y_0$ is the central latitude of the domain.\n",
    "\n",
    "1. Discretize the domain with a grid spacing of $dx = dy = 50\\,km$.\n",
    "  Solve the Stommel problem using centred differences with the Jacobi method,\n",
    "  the Gauss-Seidel method and Successive Over-relaxation. The boundary condition\n",
    "  is $\\psi=0$ at all boundaries. (7 points)\n",
    "\n",
    "1. Investigate the convergence behavior of the three methods. (2 points)\n",
    "\n",
    "1. Test the sensitivity of the convergence behavior of the SOR method to\n",
    "  the value of the relaxation parameter $\\omega$. (1 point)\n"
   ]
  },
  {
   "cell_type": "code",
   "execution_count": 1,
   "metadata": {},
   "outputs": [],
   "source": [
    "import numpy as np\n",
    "from matplotlib import pyplot as plt"
   ]
  },
  {
   "cell_type": "code",
   "execution_count": 2,
   "metadata": {},
   "outputs": [],
   "source": [
    "class Stommel:\n",
    "    def __init__(self, params = None):\n",
    "        if params is None:\n",
    "            params  = {'H': 5000., 'rho_0': 1000., 'gamma': 0.1, 'beta': 2e-11*(24*3600), 'Lx': 10000e3, \n",
    "                       'Ly': 4000e3, 'tau_0': 0.01, 'y_0': 2000e3, 'dxy': 50e3}\n",
    "        self.H      = params['H']                               #m\n",
    "        self.rho_0  = params['rho_0']                           #kg m⁻³ \n",
    "        self.gamma  = params['gamma']                           #d⁻¹\n",
    "        self.beta   = params['beta']                            #m⁻¹ d⁻¹\n",
    "        self.Lx     = params['Lx']                              #m\n",
    "        self.Ly     = params['Ly']                              #m\n",
    "        self.tau_0  = params['tau_0']                           #N m⁻²\n",
    "        self.y_0    = params['y_0']                             #m\n",
    "        self.dxy    = params['dxy']                             #m\n",
    "        self.set_grid()                                         #m\n",
    "        self.set_forcing()                                      #d⁻²\n",
    "        \n",
    "    def set_grid(self):\n",
    "        \"\"\"\n",
    "        Needs to be re-run if grid parameters are changed.\n",
    "        \"\"\"\n",
    "        self.grid_x  = np.arange(0,self.Lx+self.dxy,self.dxy)   \n",
    "        self.grid_y  = np.arange(0,self.Ly+self.dxy,self.dxy)\n",
    "        self.mesh_x, self.mesh_y = np.meshgrid(self.grid_x, self.grid_y)\n",
    "        \n",
    "    def set_forcing(self):\n",
    "        \"\"\"\n",
    "        Precomputed wind forcing. Make sure, the grid is set before the forcing. Units are in d⁻²!\n",
    "        \"\"\"\n",
    "        self.F = -(24*3600)**2*self.tau_0*np.pi*np.cos(np.pi*(self.mesh_y-self.y_0)/self.Ly)/self.rho_0/self.H/self.Ly\n",
    "    \n",
    "    def set_diff_matrices(self):\n",
    "        \"\"\"\n",
    "        Sets up difference matrices for Stommel problem. Already splitt into main (A), upper secondary (A_u)\n",
    "        and lower secondary (A_l) diagonals.  \n",
    "        \"\"\"\n",
    "        \n",
    "        #for i in range(0,len(self.grid_x)):\n",
    "            \n",
    "            "
   ]
  },
  {
   "cell_type": "code",
   "execution_count": 3,
   "metadata": {},
   "outputs": [],
   "source": [
    "a = Stommel()"
   ]
  },
  {
   "cell_type": "code",
   "execution_count": null,
   "metadata": {},
   "outputs": [],
   "source": []
  }
 ],
 "metadata": {
  "kernelspec": {
   "display_name": "Python [conda env:ws20climnum]",
   "language": "python",
   "name": "conda-env-ws20climnum-py"
  },
  "language_info": {
   "codemirror_mode": {
    "name": "ipython",
    "version": 3
   },
   "file_extension": ".py",
   "mimetype": "text/x-python",
   "name": "python",
   "nbconvert_exporter": "python",
   "pygments_lexer": "ipython3",
   "version": "3.7.8"
  }
 },
 "nbformat": 4,
 "nbformat_minor": 4
}
