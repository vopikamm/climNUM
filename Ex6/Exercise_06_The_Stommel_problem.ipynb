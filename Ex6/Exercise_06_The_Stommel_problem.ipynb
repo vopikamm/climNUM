{
 "cells": [
  {
   "cell_type": "markdown",
   "metadata": {},
   "source": [
    "# Exercise 06: The Stommel problem\n",
    "\n",
    "**Due:** _2 February 2021_"
   ]
  },
  {
   "cell_type": "markdown",
   "metadata": {},
   "source": [
    "**Names:** Mariana, Linus, Lukas, David  (Up to 4 people can submit together.)"
   ]
  },
  {
   "cell_type": "markdown",
   "metadata": {},
   "source": [
    "Consider the vorticity equation for a linear, flat bottom, barotropic, viscid ocean\n",
    "in steady state on an mid-latitude beta plane, forced by a zonally uniform zonal\n",
    "wind stress\n",
    "\\begin{equation}\n",
    "  \\gamma\\nabla^2\\psi + \\beta\\frac{\\partial \\psi}{\\partial x}\n",
    "  = -\\frac{\\partial}{\\partial y}\\left(\\frac{\\tau^x}{\\rho_0 H}\\right)\n",
    "\\end{equation}\n",
    "where $\\psi$ is the stream function of the vertically averaged velocity $u$ and\n",
    "$v$, i.e. $\\psi_x = v$ and $\\psi_y = -u$, $\\gamma$ is the damping time scale,\n",
    "$\\beta = \\frac{\\partial f}{\\partial y}$, $\\rho_0$ is a reference density, $H$ is the depth of the Ocean and $\\tau^x$ is the zonal wind stress.\n",
    "\n",
    "Take $H=5000\\,m$, $\\rho_0=1000\\,kg\\,m^{-3}$, $\\gamma = 0.1\\,days^{-1}$ and\n",
    "$\\beta = 2\\cdot10^{-11}\\,m^{-1}s^{-1}$. The size of the basin is $L_x = 10000\\,km$\n",
    "in the zonal direction and $L_y = 4000\\,km$ in the meridional direction. The wind\n",
    "stress is given by $\\tau^x = \\tau_0 \\sin(\\pi \\frac{y - y_0}{L_y})$ with\n",
    "$\\tau_0 = 0.01\\,Nm^{-2}$ and $y_0$ is the central latitude of the domain.\n",
    "\n",
    "1. Discretize the domain with a grid spacing of $dx = dy = 50\\,km$.\n",
    "  Solve the Stommel problem using centred differences with the Jacobi method,\n",
    "  the Gauss-Seidel method and Successive Over-relaxation. The boundary condition\n",
    "  is $\\psi=0$ at all boundaries. (7 points)\n",
    "\n",
    "1. Investigate the convergence behavior of the three methods. (2 points)\n",
    "\n",
    "1. Test the sensitivity of the convergence behavior of the SOR method to\n",
    "  the value of the relaxation parameter $\\omega$. (1 point)\n"
   ]
  },
  {
   "cell_type": "markdown",
   "metadata": {},
   "source": [
    "## 1. Discretizing the Stommel problem:\n",
    "Centered differences for all spatial derivatives yields\n",
    "\n",
    "\\begin{equation}\n",
    "\\gamma \\left( \\frac{\\psi_{i+1,j}-2\\psi_{i,j}+\\psi_{i-1,j}}{(\\Delta x)^2} + \\frac{\\psi_{i,j+1}-2\\psi_{i,j}+\\psi_{i,j-1}}{(\\Delta y)^2} \\right) + \\beta \\frac{\\psi_{i+1,j}-\\psi_{i-1,j}}{2 \\Delta x} = F_{i,j}\n",
    "\\end{equation}\n",
    "\n",
    "were $F_{i,j}$ is the analytically computed and then discretized wind forcing term on the right-hand-side of the equation, namely\n",
    "\n",
    "\\begin{equation}\n",
    "F_{i,j} = -\\frac{\\tau_{0}}{\\rho_{0} H}\\frac{\\pi}{L_{y}} \\cos \\left( \\pi \\frac{y_{i,j}-y_{0}}{L_{y}} \\right)\n",
    "\\end{equation}\n",
    "\n",
    "Solving for $\\psi_{i,j}$ with $\\Delta x = \\Delta y$ yields\n",
    "\n",
    "\\begin{equation}\n",
    "\\psi_{i,j} = \\frac{1}{4}\\left(\\left( 1+ \\frac{\\beta \\Delta x}{2 \\gamma} \\right) \\psi_{i+1,j} + \\left(1 - \\frac{\\beta \\Delta x}{2 \\gamma} \\right)\\psi_{i-1,j} +  \\psi_{i,j+1} + \\psi_{i,j-1} -\\frac{(\\Delta x)^2}{\\gamma}F_{i,j} \\right)\n",
    "\\end{equation}"
   ]
  },
  {
   "cell_type": "code",
   "execution_count": null,
   "metadata": {},
   "outputs": [],
   "source": [
    "import numpy as np\n",
    "from matplotlib import pyplot as plt"
   ]
  },
  {
   "cell_type": "code",
   "execution_count": null,
   "metadata": {},
   "outputs": [],
   "source": [
    "class Stommel:\n",
    "    def __init__(self, params = None):\n",
    "        if params is None:\n",
    "            params  = {'H': 5000., 'rho_0': 1000., 'gamma': 0.1/(24*3600), 'beta': 2e-11, 'omega': 0.5, 'Lx': 10000e3, \n",
    "                       'Ly': 4000e3, 'tau_0': 0.01, 'y_0': 2000e3, 'dxy': 50e3}\n",
    "        self.H      = params['H']                               #m\n",
    "        self.rho_0  = params['rho_0']                           #kg m⁻³ \n",
    "        self.gamma  = params['gamma']                           #s⁻¹\n",
    "        self.beta   = params['beta']                            #m⁻¹ s⁻¹\n",
    "        self.omega  = params['omega']                           # unitless\n",
    "        self.Lx     = params['Lx']                              #m\n",
    "        self.Ly     = params['Ly']                              #m\n",
    "        self.tau_0  = params['tau_0']                           #N m⁻²\n",
    "        self.y_0    = params['y_0']                             #m\n",
    "        self.dxy    = params['dxy']                             #m\n",
    "        self.key_dict()                                         #sets keyword arguments to switch between methods\n",
    "        self.set_grid()                                         #m\n",
    "        self.set_forcing()                                      #s⁻²\n",
    "        self.psi_init     = np.zeros(self.F.shape)              #initial streamfunction is chosen by the shape of the forcing after first iteration\n",
    "        \n",
    "\n",
    "    def key_dict(self):\n",
    "        self.method_dict = {'Jacobi': self.jacobi,'Gauss-Seidel': self.gauss_seidel,'SOR': self.sor}\n",
    "        \n",
    "    def set_grid(self):\n",
    "        \"\"\"\n",
    "        Needs to be re-run if grid parameters are changed.\n",
    "        \"\"\"\n",
    "        self.grid_x  = np.arange(0,self.Lx+self.dxy,self.dxy)   \n",
    "        self.grid_y  = np.arange(0,self.Ly+self.dxy,self.dxy)\n",
    "        self.mesh_y, self.mesh_x = np.meshgrid(self.grid_y, self.grid_x)\n",
    "        \n",
    "    def set_forcing(self):\n",
    "        \"\"\"\n",
    "        Precomputed wind forcing. Make sure, the grid is set before the forcing. Units are in 1/s^2!\n",
    "        \"\"\"\n",
    "        self.F = -self.tau_0*np.pi*np.cos(np.pi*(self.mesh_y-self.y_0)/self.Ly)/self.rho_0/self.H/self.Ly\n",
    "    \n",
    "    def iterate(self,tol=1e-6, method='Jacobi'):\n",
    "        \"\"\"\n",
    "        Computes the iterations of the given scheme until the difference between two iterations is smaller than the given tolerance.\n",
    "        \"\"\"\n",
    "        #initialize the iterations of the while loop\n",
    "        scheme  = self.method_dict[method]\n",
    "        psi_old = np.copy(self.psi_init)\n",
    "        psi_new = scheme(psi_old)\n",
    "        convergence     = np.amax(abs(psi_new-psi_old))\n",
    "        self.dpsi       = [convergence] \n",
    "        \n",
    "        while(convergence >= tol):\n",
    "            psi_old = np.copy(psi_new)\n",
    "            psi_new = scheme(psi_old)\n",
    "            convergence = np.amax(abs(psi_new-psi_old))\n",
    "            self.dpsi.append(convergence)\n",
    "            \n",
    "            #include break statement in case the solutions are diverging\n",
    "            if self.dpsi[-1] >= self.dpsi[-2]:\n",
    "                break\n",
    "            \n",
    "        self.psi = psi_new \n",
    "        \n",
    "    def jacobi(self,psi_old):\n",
    "        \"\"\"\n",
    "        One iteration of the Jacobi method. The streamfunction is computed index wise.\n",
    "        \"\"\"\n",
    "        psi_new = np.zeros(psi_old.shape)\n",
    "        for i in range(1,len(self.grid_x)-1):\n",
    "            for j in range(1,len(self.grid_y)-1):\n",
    "                psi_new[i,j] = 0.25*((1+self.beta*self.dxy/(2*self.gamma))*psi_old[i+1,j]+(1-self.beta*self.dxy/(2*self.gamma))*psi_old[i-1,j]\n",
    "                                         +psi_old[i,j+1]+psi_old[i,j-1]-self.F[i,j]*(self.dxy**2)/self.gamma\n",
    "                                     )\n",
    "        return(psi_new)\n",
    "        \n",
    "    def gauss_seidel(self,psi_old):\n",
    "        \"\"\"\n",
    "        One iteration of the Gauss-Seidel method. The streamfunction is computed index wise.\n",
    "        \"\"\"\n",
    "        psi_new = np.zeros(psi_old.shape)\n",
    "        for i in range(1,len(self.grid_x)-1):\n",
    "            for j in range(1,len(self.grid_y)-1):\n",
    "                psi_new[i,j] = 0.25*((1+self.beta*self.dxy/(2*self.gamma))*psi_old[i+1,j]+(1-self.beta*self.dxy/(2*self.gamma))*psi_new[i-1,j]\n",
    "                                         +psi_old[i,j+1]+psi_new[i,j-1]-self.F[i,j]*(self.dxy**2)/self.gamma\n",
    "                                     )\n",
    "        return(psi_new)\n",
    "    \n",
    "    def sor(self,psi_old):\n",
    "        \"\"\"\n",
    "        One iteration of the Successive Over Relaxation (SOR) method. The streamfunction is a linear combination of the previous iteration and the solution\n",
    "        of the Gauss-Seidel method.\n",
    "        \"\"\"\n",
    "        psi_ast = self.gauss_seidel(psi_old)\n",
    "        psi_new = (1-self.omega)*psi_old + self.omega*psi_ast\n",
    "        return(psi_new)\n",
    "    \n",
    "    def plot_psi(self):\n",
    "        plt.figure(figsize=(20,10))\n",
    "        plt.contourf(self.mesh_x/1000,self.mesh_y/1000,self.psi,levels=20,cmap='Blues')\n",
    "        plt.xlabel('x in km')\n",
    "        plt.ylabel('y in km')\n",
    "        plt.colorbar(label = r'$\\Psi$ in $\\frac{m^{2}}{s}$')    "
   ]
  },
  {
   "cell_type": "code",
   "execution_count": null,
   "metadata": {},
   "outputs": [],
   "source": [
    "psi = Stommel()"
   ]
  },
  {
   "cell_type": "markdown",
   "metadata": {},
   "source": [
    "### 1.1 Jacobi method"
   ]
  },
  {
   "cell_type": "code",
   "execution_count": null,
   "metadata": {},
   "outputs": [],
   "source": [
    "psi.iterate(method='Jacobi')\n",
    "jacobi_iters = psi.dpsi"
   ]
  },
  {
   "cell_type": "code",
   "execution_count": null,
   "metadata": {},
   "outputs": [],
   "source": [
    "psi.plot_psi()"
   ]
  },
  {
   "cell_type": "markdown",
   "metadata": {},
   "source": [
    "### 1.2 Gauss-Seidel method"
   ]
  },
  {
   "cell_type": "code",
   "execution_count": null,
   "metadata": {},
   "outputs": [],
   "source": [
    "psi.iterate(method='Gauss-Seidel')\n",
    "gauss_seidel_iters = psi.dpsi"
   ]
  },
  {
   "cell_type": "code",
   "execution_count": null,
   "metadata": {},
   "outputs": [],
   "source": [
    "psi.plot_psi()"
   ]
  },
  {
   "cell_type": "markdown",
   "metadata": {},
   "source": [
    "### 1.3 Successive Over Relaxation method "
   ]
  },
  {
   "cell_type": "code",
   "execution_count": null,
   "metadata": {},
   "outputs": [],
   "source": [
    "psi.iterate(method='SOR')\n",
    "sor_iters = psi.dpsi"
   ]
  },
  {
   "cell_type": "code",
   "execution_count": null,
   "metadata": {},
   "outputs": [],
   "source": [
    "psi.plot_psi()"
   ]
  },
  {
   "cell_type": "markdown",
   "metadata": {},
   "source": [
    "## 2.) Convergence behaviour"
   ]
  },
  {
   "cell_type": "code",
   "execution_count": null,
   "metadata": {},
   "outputs": [],
   "source": [
    "#get the number of iterations of the fastest converging method\n",
    "min_index  = min(len(jacobi_iters),len(gauss_seidel_iters),len(sor_iters))\n",
    "max_index  = max(len(jacobi_iters),len(gauss_seidel_iters),len(sor_iters))\n",
    "converged  = np.arange(min_index,max_index)\n",
    "iterations = np.arange(0,min_index)\n",
    "\n",
    "#plotting the convergence using the maximumsnorm\n",
    "plt.figure(figsize=(20,10))\n",
    "plt.plot(jacobi_iters,label = 'Jacobi', color = 'midnightblue')\n",
    "plt.plot(gauss_seidel_iters,label = 'Gauss-Seidel', color = 'darkred')\n",
    "plt.plot(sor_iters,label = 'SOR (0.5)', color = 'darkgreen')\n",
    "plt.plot(converged, np.zeros(converged.shape), linestyle='--', color = 'grey')\n",
    "plt.xlabel('# of Iterations')\n",
    "plt.ylabel(r'$||\\psi_{new}-\\psi_{old}||_{max}$')\n",
    "plt.legend()"
   ]
  },
  {
   "cell_type": "markdown",
   "metadata": {},
   "source": [
    "## 3.) Sensitivity with resprect to $\\omega$"
   ]
  },
  {
   "cell_type": "code",
   "execution_count": null,
   "metadata": {},
   "outputs": [],
   "source": [
    "#omegas = np.arange(0,1.05,0.05)\n",
    "#n_iter = []\n",
    "#for omega in omegas:\n",
    "#    psi.omega = omega\n",
    "#    psi.iterate()\n",
    "#    n_iter.append(len(psi.dpsi))"
   ]
  },
  {
   "cell_type": "code",
   "execution_count": null,
   "metadata": {},
   "outputs": [],
   "source": [
    "n_iter"
   ]
  },
  {
   "cell_type": "code",
   "execution_count": null,
   "metadata": {},
   "outputs": [],
   "source": []
  }
 ],
 "metadata": {
  "kernelspec": {
   "display_name": "Python [conda env:ws20climnum]",
   "language": "python",
   "name": "conda-env-ws20climnum-py"
  },
  "language_info": {
   "codemirror_mode": {
    "name": "ipython",
    "version": 3
   },
   "file_extension": ".py",
   "mimetype": "text/x-python",
   "name": "python",
   "nbconvert_exporter": "python",
   "pygments_lexer": "ipython3",
   "version": "3.7.8"
  }
 },
 "nbformat": 4,
 "nbformat_minor": 4
}
