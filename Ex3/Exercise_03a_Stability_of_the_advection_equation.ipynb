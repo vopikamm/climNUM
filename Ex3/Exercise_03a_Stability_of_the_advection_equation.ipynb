{
 "cells": [
  {
   "cell_type": "markdown",
   "metadata": {},
   "source": [
    "# Exercise 03.a: Stability of the advection equation\n",
    "\n",
    "**Due:** _15 December 2020_"
   ]
  },
  {
   "cell_type": "markdown",
   "metadata": {},
   "source": [
    "**Names:** _Enter your names here._ "
   ]
  },
  {
   "cell_type": "markdown",
   "metadata": {},
   "source": [
    "Analyze the stability of the following finite difference approximations to the one dimensional advection equation\n",
    "$$u_t + cu_x=0$$\n",
    "\n",
    "1. Leap frog in time, centred in space\n",
    "1. Forward in time, upstream\n",
    "1. Forward in time, downstream\n",
    "\n",
    "Hint: write $u^n_j = A\\lambda^n{\\rm e}^{ikj\\Delta x}$ in the finite difference approximation\n",
    "and solve the resulting equation for $\\lambda$. The difference scheme is stable\n",
    "if $\\vert\\lambda\\vert \\le 1$. Note that $A$ is a constant.\n"
   ]
  },
  {
   "cell_type": "code",
   "execution_count": null,
   "metadata": {},
   "outputs": [],
   "source": []
  },
  {
   "cell_type": "code",
   "execution_count": null,
   "metadata": {},
   "outputs": [],
   "source": []
  }
 ],
 "metadata": {
  "kernelspec": {
   "display_name": "Python [conda env:ws20climnum]",
   "language": "python",
   "name": "conda-env-ws20climnum-py"
  },
  "language_info": {
   "codemirror_mode": {
    "name": "ipython",
    "version": 3
   },
   "file_extension": ".py",
   "mimetype": "text/x-python",
   "name": "python",
   "nbconvert_exporter": "python",
   "pygments_lexer": "ipython3",
   "version": "3.7.8"
  }
 },
 "nbformat": 4,
 "nbformat_minor": 4
}
