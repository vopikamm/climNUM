{
 "cells": [
  {
   "cell_type": "markdown",
   "metadata": {},
   "source": [
    "# Exercise 03.b: Stability of the oscillation equation\n",
    "\n",
    "**Due:** _15 December 2020_"
   ]
  },
  {
   "cell_type": "markdown",
   "metadata": {},
   "source": [
    "**Names:** Linus, Lukas, Mariana, David"
   ]
  },
  {
   "cell_type": "markdown",
   "metadata": {},
   "source": [
    "Considering the following oscillation equation\n",
    "$$\\frac{{\\rm d}q}{{\\rm d}t}+i f q = 0$$\n",
    "where $f$ is the Coriolis parameter. Its analytic solution is $q=q_{0} {\\rm e}^{-ift}$.\n",
    "\n",
    "1. Discretize the oscillation equation using forward Euler, backward Euler and leap-frog schemes and analyse their stability, respectively.\n",
    "\n",
    "1. With initial value $q_0 = {\\rm e}^{i{\\pi}/4}$, and $f=10^{-4}s^{-1}$ and $\\Delta t=100s$, attempt to solve the oscillation equation by forward Euler, backward Euler and leap-frog schemes, respectively. Integrate the numerical equations for about ten periods of oscillation and compare the numerical solutions with analytic solution.\n",
    "\n",
    "1. Take $\\Delta t=200, 500 \\text{ and } 1000s$, repeat the integration, and compare them with analytic solution.\n"
   ]
  },
  {
   "cell_type": "code",
   "execution_count": null,
   "metadata": {},
   "outputs": [],
   "source": [
    "import numpy as np"
   ]
  },
  {
   "cell_type": "markdown",
   "metadata": {},
   "source": [
    "## 2.)"
   ]
  },
  {
   "cell_type": "code",
   "execution_count": null,
   "metadata": {},
   "outputs": [],
   "source": [
    "#Inititializing \n",
    "f   = 0.0001                 #s⁻¹\n",
    "q0  = np.exp(np.pi*0.25j)\n",
    "RHS = f*1j                  \n",
    "to_solve = Linear_Solver(RHS,q0)"
   ]
  },
  {
   "cell_type": "code",
   "execution_count": null,
   "metadata": {},
   "outputs": [],
   "source": [
    "to_solve.solve()"
   ]
  },
  {
   "cell_type": "code",
   "execution_count": null,
   "metadata": {},
   "outputs": [],
   "source": [
    "class Linear_Solver:\n",
    "    def __init__(self, RHS, y0, params = None):\n",
    "        if params is None:\n",
    "            params  = {'N': 10, 'dt': 100}\n",
    "        self.dt  = params['dt']\n",
    "        self.N  = params['N']\n",
    "        self.RHS = RHS\n",
    "        self.y0  = y0\n",
    "        self.keywords()\n",
    "    \n",
    "    def keywords(self):\n",
    "        self.key_dict = {'fw_euler': self.Euler_foreward,'bw_euler': self.Euler_backward,'leapfrog': self.Leap_frog}\n",
    "    \n",
    "    def Euler_foreward(self,q_0):\n",
    "        q_1 = (1-2*self.dt*self.RHS)*q_0\n",
    "        return(q_1)\n",
    "\n",
    "    def Euler_backward(self,q_0):\n",
    "        q_1 = q_0/(1+self.dt*self.RHS)\n",
    "        return(q_1)\n",
    "\n",
    "    def Leap_frog(self,q_01):\n",
    "        q_2 = q_01[0]-2*self.dt*self.RHS*q_01[1]\n",
    "        return(q_2)\n",
    "\n",
    "    def solve(self,method='fw_euler', N=None, dt=None):\n",
    "        if N is not None:\n",
    "            self.N  = N\n",
    "        if dt is not None:\n",
    "            self.dt = dt\n",
    "        \n",
    "        scheme = self.key_dict[method]\n",
    "        y = [self.y0]\n",
    "        for i in range(self.N):\n",
    "            step = scheme(y[i])\n",
    "            y.append(step)\n",
    "        return(y)"
   ]
  },
  {
   "cell_type": "code",
   "execution_count": null,
   "metadata": {},
   "outputs": [],
   "source": []
  }
 ],
 "metadata": {
  "kernelspec": {
   "display_name": "Python [conda env:ws20climnum]",
   "language": "python",
   "name": "conda-env-ws20climnum-py"
  },
  "language_info": {
   "codemirror_mode": {
    "name": "ipython",
    "version": 3
   },
   "file_extension": ".py",
   "mimetype": "text/x-python",
   "name": "python",
   "nbconvert_exporter": "python",
   "pygments_lexer": "ipython3",
   "version": "3.7.8"
  }
 },
 "nbformat": 4,
 "nbformat_minor": 4
}
