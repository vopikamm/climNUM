{
 "cells": [
  {
   "cell_type": "markdown",
   "metadata": {},
   "source": [
    "# Exercise 03.b: Stability of the oscillation equation\n",
    "\n",
    "**Due:** _15 December 2020_"
   ]
  },
  {
   "cell_type": "markdown",
   "metadata": {},
   "source": [
    "**Names:** Linus, Lukas, Mariana, David"
   ]
  },
  {
   "cell_type": "markdown",
   "metadata": {},
   "source": [
    "Considering the following oscillation equation\n",
    "$$\\frac{{\\rm d}q}{{\\rm d}t}+i f q = 0$$\n",
    "where $f$ is the Coriolis parameter. Its analytic solution is $q=q_{0} {\\rm e}^{-ift}$.\n",
    "\n",
    "1. Discretize the oscillation equation using forward Euler, backward Euler and leap-frog schemes and analyse their stability, respectively.\n",
    "\n",
    "1. With initial value $q_0 = {\\rm e}^{i{\\pi}/4}$, and $f=10^{-4}s^{-1}$ and $\\Delta t=100s$, attempt to solve the oscillation equation by forward Euler, backward Euler and leap-frog schemes, respectively. Integrate the numerical equations for about ten periods of oscillation and compare the numerical solutions with analytic solution.\n",
    "\n",
    "1. Take $\\Delta t=200, 500 \\text{ and } 1000s$, repeat the integration, and compare them with analytic solution.\n"
   ]
  },
  {
   "cell_type": "code",
   "execution_count": null,
   "metadata": {},
   "outputs": [],
   "source": [
    "%matplotlib inline\n",
    "import numpy as np\n",
    "from matplotlib import pyplot as plt"
   ]
  },
  {
   "cell_type": "markdown",
   "metadata": {},
   "source": [
    "## 2.)"
   ]
  },
  {
   "cell_type": "code",
   "execution_count": null,
   "metadata": {},
   "outputs": [],
   "source": [
    "#Inititializing \n",
    "f   = 0.0001                 #s⁻¹\n",
    "q0  = np.exp(np.pi*0.25j)\n",
    "RHS = -f*1j                  \n",
    "q = Linear_Solver(RHS,q0)"
   ]
  },
  {
   "cell_type": "markdown",
   "metadata": {},
   "source": [
    "# Foreward Euler"
   ]
  },
  {
   "cell_type": "code",
   "execution_count": null,
   "metadata": {},
   "outputs": [],
   "source": [
    "q.solve(method='fw_euler')\n",
    "q.plot_sol()"
   ]
  },
  {
   "cell_type": "markdown",
   "metadata": {},
   "source": [
    "# Backward Euler"
   ]
  },
  {
   "cell_type": "code",
   "execution_count": null,
   "metadata": {},
   "outputs": [],
   "source": [
    "q.solve(method='bw_euler')\n",
    "q.plot_sol()"
   ]
  },
  {
   "cell_type": "markdown",
   "metadata": {},
   "source": [
    "# Leapfrog"
   ]
  },
  {
   "cell_type": "code",
   "execution_count": null,
   "metadata": {},
   "outputs": [],
   "source": [
    "q.solve(method='leapfrog')\n",
    "q.plot_sol()"
   ]
  },
  {
   "cell_type": "code",
   "execution_count": null,
   "metadata": {},
   "outputs": [],
   "source": [
    "class Linear_Solver:\n",
    "    def __init__(self, RHS, y0, params = None):\n",
    "        if params is None:\n",
    "            params  = {'N': 6000, 'dt': 100}\n",
    "        self.dt  = params['dt']\n",
    "        self.N  = params['N']\n",
    "        self.RHS = RHS\n",
    "        self.y0  = y0\n",
    "        self.keywords()\n",
    "    \n",
    "    def keywords(self):\n",
    "        self.key_dict = {'fw_euler': self.Euler_foreward,'bw_euler': self.Euler_backward,'leapfrog': self.Leap_frog}\n",
    "    \n",
    "    def Euler_foreward(self,q_0):\n",
    "        q_1 = (1+2*self.dt*self.RHS)*q_0\n",
    "        return(q_1)\n",
    "\n",
    "    def Euler_backward(self,q_0):\n",
    "        q_1 = q_0/(1-self.dt*self.RHS)\n",
    "        return(q_1)\n",
    "\n",
    "    def Leap_frog(self,q_01):\n",
    "        q_2 = self.onestep+2*self.dt*self.RHS*q_01\n",
    "        self.onestep = q_01\n",
    "        return(q_2)\n",
    "    \n",
    "    def analytic(self):\n",
    "        return(self.y0*np.exp(self.RHS*self.t))     \n",
    "\n",
    "    def solve(self,method='fw_euler', N=None, dt=None):\n",
    "        \n",
    "        if N is not None:\n",
    "            self.N  = N\n",
    "        if dt is not None:\n",
    "            self.dt = dt\n",
    "        \n",
    "        if method is 'leapfrog':\n",
    "            self.onestep = self.y0\n",
    "            y = [self.Euler_foreward(self.y0)]\n",
    "        else:\n",
    "            y = [self.y0] \n",
    "                    \n",
    "        scheme = self.key_dict[method]\n",
    "        t = [0]\n",
    "        for i in range(self.N):\n",
    "            step = scheme(y[i])\n",
    "            y.append(step)\n",
    "            t.append(t[i]+self.dt)\n",
    "        self.sol = np.array(y)\n",
    "        self.t   = np.array(t)\n",
    "        self.an  = self.analytic()\n",
    "        self.method = method\n",
    "        if method is 'leap_frog':\n",
    "            self.sol \n",
    "    \n",
    "    def plot_sol(self):\n",
    "        plt.figure(figsize=(20,10))\n",
    "        plt.subplot(1, 2, 1)\n",
    "        plt.plot(self.an.real,self.an.imag , color='midnightblue', linestyle='-',label='Analytic')\n",
    "        plt.plot(self.sol.real,self.sol.imag , color='darkred', label=self.method)\n",
    "        plt.title('Solution in complex plane')\n",
    "        plt.ylabel(r'Im(q)')\n",
    "        plt.xlabel(r'Re(q)')\n",
    "        plt.legend()\n",
    "\n",
    "        plt.subplot(1, 2, 2)\n",
    "        plt.plot(self.t,abs(self.an) , color='midnightblue', linestyle='-',label='Analytic')\n",
    "        plt.plot(self.t,abs(self.sol) , color='darkred', label=self.method)\n",
    "        plt.title('Absolute of solution')\n",
    "        plt.xlabel(r't in s')\n",
    "        plt.ylabel(r'q')\n",
    "        plt.legend()\n",
    "        plt.show()\n",
    "        "
   ]
  },
  {
   "cell_type": "code",
   "execution_count": null,
   "metadata": {},
   "outputs": [],
   "source": []
  }
 ],
 "metadata": {
  "kernelspec": {
   "display_name": "Python [conda env:ws20climnum]",
   "language": "python",
   "name": "conda-env-ws20climnum-py"
  },
  "language_info": {
   "codemirror_mode": {
    "name": "ipython",
    "version": 3
   },
   "file_extension": ".py",
   "mimetype": "text/x-python",
   "name": "python",
   "nbconvert_exporter": "python",
   "pygments_lexer": "ipython3",
   "version": "3.7.8"
  }
 },
 "nbformat": 4,
 "nbformat_minor": 4
}
