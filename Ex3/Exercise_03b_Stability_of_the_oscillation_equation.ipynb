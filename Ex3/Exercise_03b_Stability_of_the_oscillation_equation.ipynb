{
 "cells": [
  {
   "cell_type": "markdown",
   "metadata": {},
   "source": [
    "# Exercise 03.b: Stability of the oscillation equation\n",
    "\n",
    "**Due:** _15 December 2020_"
   ]
  },
  {
   "cell_type": "markdown",
   "metadata": {},
   "source": [
    "**Names:** _Enter your names here._"
   ]
  },
  {
   "cell_type": "markdown",
   "metadata": {},
   "source": [
    "Considering the following oscillation equation\n",
    "$$\\frac{{\\rm d}q}{{\\rm d}t}+i f q = 0$$\n",
    "where $f$ is the Coriolis parameter. Its analytic solution is $q=q_{0} {\\rm e}^{-ift}$.\n",
    "\n",
    "1. Discretize the oscillation equation using forward Euler, backward Euler and leap-frog schemes and analyse their stability, respectively.\n",
    "\n",
    "1. With initial value $q_0 = {\\rm e}^{i{\\pi}/4}$, and $f=10^{-4}s^{-1}$ and $\\Delta t=100s$, attempt to solve the oscillation equation by forward Euler, backward Euler and leap-frog schemes, respectively. Integrate the numerical equations for about ten periods of oscillation and compare the numerical solutions with analytic solution.\n",
    "\n",
    "1. Take $\\Delta t=200, 500 \\text{ and } 1000s$, repeat the integration, and compare them with analytic solution.\n"
   ]
  },
  {
   "cell_type": "code",
   "execution_count": null,
   "metadata": {},
   "outputs": [],
   "source": []
  },
  {
   "cell_type": "code",
   "execution_count": null,
   "metadata": {},
   "outputs": [],
   "source": []
  }
 ],
 "metadata": {
  "kernelspec": {
   "display_name": "Python [conda env:ws20climnum]",
   "language": "python",
   "name": "conda-env-ws20climnum-py"
  },
  "language_info": {
   "codemirror_mode": {
    "name": "ipython",
    "version": 3
   },
   "file_extension": ".py",
   "mimetype": "text/x-python",
   "name": "python",
   "nbconvert_exporter": "python",
   "pygments_lexer": "ipython3",
   "version": "3.7.8"
  }
 },
 "nbformat": 4,
 "nbformat_minor": 4
}
