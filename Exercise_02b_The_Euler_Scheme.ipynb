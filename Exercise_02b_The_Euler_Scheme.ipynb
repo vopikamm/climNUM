{
 "cells": [
  {
   "cell_type": "markdown",
   "metadata": {},
   "source": [
    "# Exercise 02.b: The Euler Scheme\n",
    "\n",
    "**Due:** _25 November 2020_"
   ]
  },
  {
   "cell_type": "markdown",
   "metadata": {},
   "source": [
    "**Names:** _Enter your names here._  (Up to 3 people can submit together.)"
   ]
  },
  {
   "cell_type": "markdown",
   "metadata": {},
   "source": [
    "Consider the following problem\n",
    "\n",
    "$$\n",
    "\\frac{dy}{dx} = \\frac{x}{y}\n",
    "$$\n",
    "\n",
    "with the initial condition $y(0) = 1$. Its analytical solution is\n",
    "\n",
    "$$\n",
    "  y = \\sqrt{x^2 +1}.\n",
    "$$\n",
    "\n",
    "Solve the problem numerically in the range $0 \\le x \\le 0.3$\n",
    "with both the forward Euler and modified Euler method. Use a grid spacing of\n",
    "$dx=0.05$ and compare both numerical solutions to the analytical solution."
   ]
  },
  {
   "cell_type": "code",
   "execution_count": null,
   "metadata": {},
   "outputs": [],
   "source": []
  },
  {
   "cell_type": "code",
   "execution_count": null,
   "metadata": {},
   "outputs": [],
   "source": []
  }
 ],
 "metadata": {
  "kernelspec": {
   "display_name": "Python [conda env:ws20climnum]",
   "language": "python",
   "name": "conda-env-ws20climnum-py"
  },
  "language_info": {
   "codemirror_mode": {
    "name": "ipython",
    "version": 3
   },
   "file_extension": ".py",
   "mimetype": "text/x-python",
   "name": "python",
   "nbconvert_exporter": "python",
   "pygments_lexer": "ipython3",
   "version": "3.7.8"
  }
 },
 "nbformat": 4,
 "nbformat_minor": 2
}
