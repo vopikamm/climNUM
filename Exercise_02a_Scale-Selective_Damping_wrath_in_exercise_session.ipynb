{
 "cells": [
  {
   "cell_type": "markdown",
   "metadata": {},
   "source": [
    "# Exercise 02.a: Scale-selective damping\n",
    "\n",
    "**Due:** _21 November 2019_"
   ]
  },
  {
   "cell_type": "markdown",
   "metadata": {},
   "source": [
    "**Names:** _Enter your names here._  (Up to 3 people can submit together.)"
   ]
  },
  {
   "cell_type": "markdown",
   "metadata": {},
   "source": [
    "Consider the harmonic and biharmonic diffusion equations\n",
    "\n",
    "$$\n",
    "  \\frac{\\partial u}{\\partial t} = A_2 \\frac{\\partial^2 u}{\\partial x^2} \\quad\\text{(harmonic)}\n",
    "  \\qquad\\qquad\n",
    "  \\frac{\\partial u}{\\partial t} = -A_4 \\frac{\\partial^4 u}{\\partial x^4} \\quad\\text{(biharmonic)}\n",
    "$$\n",
    "\n",
    "where $A_2$ and $A_4$ are the positive definite harmonic and biharmonic diffusion coefficients,\n",
    "respectively.\n",
    "\n",
    "1. Discretize the harmonic equation in the x direction. Derive the damping time scale as a function of wave number.\n",
    "\n",
    "1. Discretize the biharmonic equation in the x direction. Derive the damping time scale as a function of wave number.\n",
    "\n",
    "1. Plot both damping time scales as a function of wave number. How do they differ for long and short waves and why?\n",
    "\n",
    "1. Derive the damping time scale as a function of wave number for the analytic solution of both equations and compare them to the time scales implied by the finite difference equations.\n",
    "\n",
    "1. Show that in the limit $\\Delta x \\rightarrow 0$, the damping time scales of the discretized and of the analytical solution are the same."
   ]
  },
  {
   "cell_type": "markdown",
   "metadata": {},
   "source": [
    "**Hint:** Since the analytical solution of both diffusion equations has the form\n",
    "\n",
    "$$u(x, t) = \\hat{u}(t) {\\rm e}^{ikx}$$\n",
    "\n",
    "where $\\hat{u}$ is independent of $x$, $i=\\sqrt{-1}$ and $k$ is the wave number.\n",
    "After discretizing the equations in the x direction, one can substitute $u(j\\Delta x, t)$\n",
    "into the discrete equation to get the damping coefficient as a function of wave number $k$."
   ]
  },
  {
   "cell_type": "markdown",
   "metadata": {},
   "source": [
    "## 1. Discretize the harmonic equation in the x direction. Derive the damping time scale as a function of wave number.\n",
    "\n",
    "Discretize: $u(x, t) = u(j  \\Delta x, t) \\equiv u_j(t)$\n",
    "\n",
    "Ansatz: $u_j(t) = \\hat{u}(t)\\tilde{u}_j =\\hat{u}(t){\\rm e}^{ikj\\Delta x}$\n",
    "\n",
    "$$\\frac{\\partial^2 u}{\\partial x^2}\n",
    "  = \\frac{u_{j+1} - 2u_j + u_{j-1}}{\\Delta x^2} + O(\\Delta x^2)$$"
   ]
  },
  {
   "cell_type": "markdown",
   "metadata": {},
   "source": [
    "Time scale:\n",
    "$$\\frac{\\partial \\hat{u}(t)}{\\partial t} = -\\frac{1}{\\tau} \\hat{u}(t)$$"
   ]
  },
  {
   "cell_type": "markdown",
   "metadata": {},
   "source": [
    "$$\\frac{\\partial u(x, t)}{\\partial t}\n",
    "  = A_2 \\frac{\\partial^2 u(x, t)}{\\partial x^2}\n",
    "$$\n",
    "$$\n",
    "  \\frac{\\partial \\hat{u}(t)}{\\partial t} \\tilde{u}_j\n",
    "  \\approx \\hat{u}(t) A_2 \\frac{\\tilde{u}_{j+1} - 2\\tilde{u}_j + \\tilde{u}_{j-1}}{\\Delta x^2}$$"
   ]
  },
  {
   "cell_type": "markdown",
   "metadata": {},
   "source": [
    "$$\n",
    "  \\frac{\\partial \\hat{u}(t)}{\\partial t}\n",
    "  \\approx \\hat{u}(t) A_2 \\frac{\\tilde{u}_{j+1} - 2\\tilde{u}_j + \\tilde{u}_{j-1}}{\\tilde{u}_j \\Delta x^2}$$"
   ]
  },
  {
   "cell_type": "markdown",
   "metadata": {},
   "source": [
    "Use: $\\tilde{u}_j \\propto {\\rm e}^{ikj\\Delta x}$"
   ]
  },
  {
   "cell_type": "markdown",
   "metadata": {},
   "source": [
    "$$\\frac{\\tilde{u}_{j\\pm 1, 0}}{\\tilde{u}_j}=\\tilde{u}_{\\pm 1, 0}$$"
   ]
  },
  {
   "cell_type": "markdown",
   "metadata": {},
   "source": [
    "$$\n",
    "  \\frac{\\partial \\hat{u}(t)}{\\partial t}\n",
    "  \\approx \\hat{u}(t) A_2 \\frac{\\tilde{u}_{1} - 2\\tilde{u}_0 + \\tilde{u}_{-1}}{\\Delta x^2}$$"
   ]
  },
  {
   "cell_type": "markdown",
   "metadata": {},
   "source": [
    "$$\n",
    "  \\frac{\\partial \\hat{u}(t)}{\\partial t}\n",
    "  \\approx \\hat{u}(t) A_2 \\frac{\n",
    "    \\frac{{\\rm e}^{ik\\Delta x} + {\\rm e}^{-ik\\Delta x}}{2}2 - 2\n",
    "  }{\\Delta x^2}\n",
    "$$"
   ]
  },
  {
   "cell_type": "markdown",
   "metadata": {},
   "source": [
    "$$\n",
    "  \\frac{\\partial \\hat{u}(t)}{\\partial t}\n",
    "  \\approx \\hat{u}(t) A_2 \\frac{\n",
    "    2\\cos{(k\\Delta x)} - 2\n",
    "  }{\\Delta x^2}\n",
    "$$"
   ]
  },
  {
   "cell_type": "markdown",
   "metadata": {},
   "source": [
    "$$\\tau_2 = \\frac{\\Delta x^2}{2A_2(\\cos{(k\\Delta x)} - 1)}$$"
   ]
  },
  {
   "cell_type": "markdown",
   "metadata": {},
   "source": [
    "## 2. Discretize the biharmonic equation in the x direction. Derive the damping time scale as a function of wave number.\n"
   ]
  },
  {
   "cell_type": "markdown",
   "metadata": {},
   "source": [
    "$$   \\qquad\\qquad\n",
    "  \\frac{\\partial u}{\\partial t} = -A_4 \\frac{\\partial^4 u}{\\partial x^4} \\quad\\text{(biharmonic)}\n",
    "$$"
   ]
  },
  {
   "cell_type": "markdown",
   "metadata": {},
   "source": [
    "Discretize: $u(x, t) = u(j  \\Delta x, t) \\equiv u_j(t)$\n",
    "\n",
    "Ansatz: $u_j(t) = \\hat{u}(t)\\tilde{u}_j =\\hat{u}(t){\\rm e}^{ikj\\Delta x}$\n",
    "\n",
    "Adding the 4.th order Taylor extensions of $ u(x+ \\Delta x) and u(x - \\Delta x)$ leads to: \n",
    "\n",
    "$$\\frac{\\partial^4 u}{\\partial x^4}\n",
    "  = 12 \\frac{u_{j+1} - 2u_j + u_{j-1} - \\Delta x^2 \\frac{\\partial^2u}{\\partial x^2}}{\\Delta x^4} + O(\\Delta x^4)$$\n",
    "  \n",
    "inserting the solution of the harmonic equation for: $\\frac{\\partial^2u}{\\partial x^2}$"
   ]
  },
  {
   "cell_type": "markdown",
   "metadata": {},
   "source": [
    "$$\\frac{\\partial^4 u}{\\partial x^4}\n",
    "  = 12 \\frac{u_{j+1} - 2u_j + u_{j-1} - (\\frac{u_{j+1} - 2u_j + u_{j-1}}{\\Delta x^2})}{\\Delta x^4} + O(\\Delta x^4)$$\n",
    "\n",
    "with $\\tilde u_j \\frac{\\partial \\hat u}{\\partial t} = \\tilde u(t) A_4 \\frac{\\partial ^4 \\tilde u_j}{\\partial x^4}$\n",
    "  "
   ]
  },
  {
   "cell_type": "markdown",
   "metadata": {},
   "source": [
    "$$ \\frac{\\partial \\hat u}{\\partial t} = \\tilde u(t) A_4 12 \\frac{u_{j+1} - 2u_j + u_{j-1} - (\\frac{u_{j+1} - 2u_j + u_{j-1}}{\\Delta x^2})}{\\tilde u_j \\Delta x^4} + O(\\Delta x^4)$$"
   ]
  },
  {
   "cell_type": "markdown",
   "metadata": {},
   "source": [
    "Use: $\\tilde{u}_j \\propto {\\rm e}^{ikj\\Delta x}$\n",
    "\n",
    "$$ \\frac{\\tilde u_{j \\pm 1,0}}{\\tilde u_j}=\\tilde u_{\\pm 1, 0} $$\n",
    "\n",
    "and $\\tilde u_0 = 1 $"
   ]
  },
  {
   "cell_type": "markdown",
   "metadata": {},
   "source": [
    "$$ \\frac{\\partial \\hat u}{\\partial t} = \\tilde u(t) A_4 12 \\frac{u_{+1} - 2u_0 + u_{-1} - (\\frac{u_{+1} - 2u_0 + u_{-1}}{\\Delta x^2})}{\\Delta x^4}$$"
   ]
  },
  {
   "cell_type": "markdown",
   "metadata": {},
   "source": [
    "$$ \\frac{\\partial \\hat u}{\\partial t} = \\tilde u(t) A_4 12 \\frac{2 cos(k \\Delta x)- 2 - (\\frac{2 cos(k \\Delta x) -2}{\\Delta x^2})}{\\Delta x^4}$$"
   ]
  },
  {
   "cell_type": "markdown",
   "metadata": {},
   "source": [
    "$$\\tau_4 = \\frac{1}{24A_4(\\cos{(k\\Delta x)} - 1)} (\\Delta x^4 -\\Delta x^6)$$"
   ]
  },
  {
   "cell_type": "markdown",
   "metadata": {},
   "source": [
    "Since we neglected the $O(\\Delta x^4)$ and asume $\\Delta x <<1$:\n",
    "    $$ \\Delta x^4 - \\Delta x^6 \\approx \\Delta x^4 $$"
   ]
  },
  {
   "cell_type": "markdown",
   "metadata": {},
   "source": [
    "$$\\tau_4 = \\frac{\\Delta x^4}{24A_4(\\cos{(k\\Delta x)} - 1)}  $$"
   ]
  },
  {
   "cell_type": "markdown",
   "metadata": {},
   "source": [
    "## 5. Show that in the limit $\\Delta x \\rightarrow 0$, the damping time scales of the discretized and of the analytical solution are the same."
   ]
  },
  {
   "cell_type": "markdown",
   "metadata": {},
   "source": [
    "[L'hôpital](https://en.wikipedia.org/wiki/L%27H%C3%B4pital%27s_rule):\n",
    "$$\n",
    "\\tau_2 = \\frac{1}{A_2 k^2}\n",
    "$$"
   ]
  },
  {
   "cell_type": "markdown",
   "metadata": {},
   "source": []
  },
  {
   "cell_type": "code",
   "execution_count": null,
   "metadata": {},
   "outputs": [],
   "source": []
  }
 ],
 "metadata": {
  "kernelspec": {
   "display_name": "Python [conda env:ws20climnum]",
   "language": "python",
   "name": "conda-env-ws20climnum-py"
  },
  "language_info": {
   "codemirror_mode": {
    "name": "ipython",
    "version": 3
   },
   "file_extension": ".py",
   "mimetype": "text/x-python",
   "name": "python",
   "nbconvert_exporter": "python",
   "pygments_lexer": "ipython3",
   "version": "3.7.8"
  }
 },
 "nbformat": 4,
 "nbformat_minor": 2
}
